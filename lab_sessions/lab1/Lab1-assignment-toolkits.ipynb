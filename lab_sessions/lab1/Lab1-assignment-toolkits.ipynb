{
 "cells": [
  {
   "cell_type": "markdown",
   "metadata": {},
   "source": [
    "# **By Timofei Polivanov, Sami Rahali**"
   ]
  },
  {
   "cell_type": "markdown",
   "metadata": {},
   "source": [
    "# Lab1-Assignment\n",
    "\n",
    "Copyright: Vrije Universiteit Amsterdam, Faculty of Humanities, CLTL\n",
    "\n",
    "This notebook describes the assignment for Lab 1 of the text mining course. \n",
    "\n",
    "**Points**: each exercise is prefixed with the number of points you can obtain for the exercise.\n",
    "\n",
    "We assume you have worked through the following notebooks:\n",
    "* **Lab1.1-introduction**\n",
    "* **Lab1.2-introduction-to-NLTK**\n",
    "* **Lab1.3-introduction-to-spaCy** \n",
    "\n",
    "In this assignment, you will process an English text (**Lab1-apple-samsung-example.txt**) with both NLTK and spaCy and discuss the similarities and differences."
   ]
  },
  {
   "cell_type": "markdown",
   "metadata": {},
   "source": [
    "## Credits\n",
    "The notebooks in this block have been originally created by [Marten Postma](https://martenpostma.github.io). Adaptations were made by [Filip Ilievski](http://ilievski.nl)."
   ]
  },
  {
   "cell_type": "markdown",
   "metadata": {},
   "source": [
    "## Tip: how to read a file from disk\n",
    "Let's open the file **Lab1-apple-samsung-example.txt** from disk."
   ]
  },
  {
   "cell_type": "code",
   "execution_count": 58,
   "metadata": {},
   "outputs": [],
   "source": [
    "from pathlib import Path"
   ]
  },
  {
   "cell_type": "code",
   "execution_count": 59,
   "metadata": {},
   "outputs": [
    {
     "name": "stdout",
     "output_type": "stream",
     "text": [
      "/Volumes/Crucial/programming/vu_tm/ba-text-mining-master/lab_sessions/lab1/Lab1-apple-samsung-example.txt\n",
      "does path exist? -> True\n"
     ]
    }
   ],
   "source": [
    "cur_dir = Path().resolve() # this should provide you with the folder in which this notebook is placed\n",
    "path_to_file = Path.joinpath(cur_dir, 'Lab1-apple-samsung-example.txt')\n",
    "print(path_to_file)\n",
    "print('does path exist? ->', Path.exists(path_to_file))"
   ]
  },
  {
   "cell_type": "markdown",
   "metadata": {},
   "source": [
    "If the output from the code cell above states that **does path exist? -> False**, please check that the file **Lab1-apple-samsung-example.txt** is in the same directory as this notebook."
   ]
  },
  {
   "cell_type": "code",
   "execution_count": 60,
   "metadata": {},
   "outputs": [
    {
     "name": "stdout",
     "output_type": "stream",
     "text": [
      "number of characters 1139\n"
     ]
    }
   ],
   "source": [
    "with open(path_to_file) as infile:\n",
    "    text = infile.read()\n",
    "\n",
    "print('number of characters', len(text))"
   ]
  },
  {
   "cell_type": "markdown",
   "metadata": {},
   "source": [
    "## [total points: 4] Exercise 1: NLTK\n",
    "In this exercise, we use NLTK to apply **Part-of-speech (POS) tagging**, **Named Entity Recognition (NER)**, and **Constituency parsing**. The following code snippet already performs sentence splitting and tokenization. "
   ]
  },
  {
   "cell_type": "code",
   "execution_count": 61,
   "metadata": {},
   "outputs": [],
   "source": [
    "import nltk\n",
    "from nltk.tokenize import sent_tokenize\n",
    "from nltk import word_tokenize"
   ]
  },
  {
   "cell_type": "code",
   "execution_count": 62,
   "metadata": {},
   "outputs": [],
   "source": [
    "sentences_nltk = sent_tokenize(text)"
   ]
  },
  {
   "cell_type": "code",
   "execution_count": 63,
   "metadata": {},
   "outputs": [],
   "source": [
    "tokens_per_sentence = []\n",
    "for sentence_nltk in sentences_nltk:\n",
    "    sent_tokens = word_tokenize(sentence_nltk)\n",
    "    tokens_per_sentence.append(sent_tokens)"
   ]
  },
  {
   "cell_type": "markdown",
   "metadata": {},
   "source": [
    "We will use lists to keep track of the output of the NLP tasks. We can hence inspect the output for each task using the index of the sentence."
   ]
  },
  {
   "cell_type": "code",
   "execution_count": 64,
   "metadata": {},
   "outputs": [
    {
     "name": "stdout",
     "output_type": "stream",
     "text": [
      "SENTENCE The six phones and tablets affected are the Galaxy S III, running the new Jelly Bean system, the Galaxy Tab 8.9 Wifi tablet, the Galaxy Tab 2 10.1, Galaxy Rugby Pro and Galaxy S III mini.\n",
      "TOKENS ['The', 'six', 'phones', 'and', 'tablets', 'affected', 'are', 'the', 'Galaxy', 'S', 'III', ',', 'running', 'the', 'new', 'Jelly', 'Bean', 'system', ',', 'the', 'Galaxy', 'Tab', '8.9', 'Wifi', 'tablet', ',', 'the', 'Galaxy', 'Tab', '2', '10.1', ',', 'Galaxy', 'Rugby', 'Pro', 'and', 'Galaxy', 'S', 'III', 'mini', '.']\n"
     ]
    }
   ],
   "source": [
    "sent_id = 1\n",
    "print('SENTENCE', sentences_nltk[sent_id])\n",
    "print('TOKENS', tokens_per_sentence[sent_id])"
   ]
  },
  {
   "cell_type": "markdown",
   "metadata": {},
   "source": [
    "### [point: 1] Exercise 1a: Part-of-speech (POS) tagging\n",
    "Use `nltk.pos_tag` to perform part-of-speech tagging on each sentence.\n",
    "\n",
    "Use `print` to **show** the output in the notebook (and hence also in the exported PDF!)."
   ]
  },
  {
   "cell_type": "code",
   "execution_count": 65,
   "metadata": {},
   "outputs": [
    {
     "name": "stdout",
     "output_type": "stream",
     "text": [
      "[('https', 'NN'), (':', ':'), ('//www.telegraph.co.uk/technology/apple/9702716/Apple-Samsung-lawsuit-six-more-products-under-scrutiny.html', 'JJ'), ('Documents', 'NNS'), ('filed', 'VBN'), ('to', 'TO'), ('the', 'DT'), ('San', 'NNP'), ('Jose', 'NNP'), ('federal', 'JJ'), ('court', 'NN'), ('in', 'IN'), ('California', 'NNP'), ('on', 'IN'), ('November', 'NNP'), ('23', 'CD'), ('list', 'NN'), ('six', 'CD'), ('Samsung', 'NNP'), ('products', 'NNS'), ('running', 'VBG'), ('the', 'DT'), ('``', '``'), ('Jelly', 'RB'), ('Bean', 'NNP'), (\"''\", \"''\"), ('and', 'CC'), ('``', '``'), ('Ice', 'NNP'), ('Cream', 'NNP'), ('Sandwich', 'NNP'), (\"''\", \"''\"), ('operating', 'VBG'), ('systems', 'NNS'), (',', ','), ('which', 'WDT'), ('Apple', 'NNP'), ('claims', 'VBZ'), ('infringe', 'VB'), ('its', 'PRP$'), ('patents', 'NNS'), ('.', '.')]\n",
      "[('The', 'DT'), ('six', 'CD'), ('phones', 'NNS'), ('and', 'CC'), ('tablets', 'NNS'), ('affected', 'VBN'), ('are', 'VBP'), ('the', 'DT'), ('Galaxy', 'NNP'), ('S', 'NNP'), ('III', 'NNP'), (',', ','), ('running', 'VBG'), ('the', 'DT'), ('new', 'JJ'), ('Jelly', 'NNP'), ('Bean', 'NNP'), ('system', 'NN'), (',', ','), ('the', 'DT'), ('Galaxy', 'NNP'), ('Tab', 'NNP'), ('8.9', 'CD'), ('Wifi', 'NNP'), ('tablet', 'NN'), (',', ','), ('the', 'DT'), ('Galaxy', 'NNP'), ('Tab', 'NNP'), ('2', 'CD'), ('10.1', 'CD'), (',', ','), ('Galaxy', 'NNP'), ('Rugby', 'NNP'), ('Pro', 'NNP'), ('and', 'CC'), ('Galaxy', 'NNP'), ('S', 'NNP'), ('III', 'NNP'), ('mini', 'NN'), ('.', '.')]\n",
      "[('Apple', 'NNP'), ('stated', 'VBD'), ('it', 'PRP'), ('had', 'VBD'), ('“', 'NNP'), ('acted', 'VBD'), ('quickly', 'RB'), ('and', 'CC'), ('diligently', 'RB'), (\"''\", \"''\"), ('in', 'IN'), ('order', 'NN'), ('to', 'TO'), ('``', '``'), ('determine', 'VB'), ('that', 'IN'), ('these', 'DT'), ('newly', 'RB'), ('released', 'VBN'), ('products', 'NNS'), ('do', 'VBP'), ('infringe', 'VB'), ('many', 'JJ'), ('of', 'IN'), ('the', 'DT'), ('same', 'JJ'), ('claims', 'NNS'), ('already', 'RB'), ('asserted', 'VBN'), ('by', 'IN'), ('Apple', 'NNP'), ('.', '.'), (\"''\", \"''\")]\n",
      "[('In', 'IN'), ('August', 'NNP'), (',', ','), ('Samsung', 'NNP'), ('lost', 'VBD'), ('a', 'DT'), ('US', 'NNP'), ('patent', 'NN'), ('case', 'NN'), ('to', 'TO'), ('Apple', 'NNP'), ('and', 'CC'), ('was', 'VBD'), ('ordered', 'VBN'), ('to', 'TO'), ('pay', 'VB'), ('its', 'PRP$'), ('rival', 'JJ'), ('$', '$'), ('1.05bn', 'CD'), ('(', '('), ('£0.66bn', 'NN'), (')', ')'), ('in', 'IN'), ('damages', 'NNS'), ('for', 'IN'), ('copying', 'VBG'), ('features', 'NNS'), ('of', 'IN'), ('the', 'DT'), ('iPad', 'NN'), ('and', 'CC'), ('iPhone', 'NN'), ('in', 'IN'), ('its', 'PRP$'), ('Galaxy', 'NNP'), ('range', 'NN'), ('of', 'IN'), ('devices', 'NNS'), ('.', '.')]\n",
      "[('Samsung', 'NNP'), (',', ','), ('which', 'WDT'), ('is', 'VBZ'), ('the', 'DT'), ('world', 'NN'), (\"'s\", 'POS'), ('top', 'JJ'), ('mobile', 'NN'), ('phone', 'NN'), ('maker', 'NN'), (',', ','), ('is', 'VBZ'), ('appealing', 'VBG'), ('the', 'DT'), ('ruling', 'NN'), ('.', '.')]\n",
      "[('A', 'DT'), ('similar', 'JJ'), ('case', 'NN'), ('in', 'IN'), ('the', 'DT'), ('UK', 'NNP'), ('found', 'VBD'), ('in', 'IN'), ('Samsung', 'NNP'), (\"'s\", 'POS'), ('favour', 'NN'), ('and', 'CC'), ('ordered', 'VBD'), ('Apple', 'NNP'), ('to', 'TO'), ('publish', 'VB'), ('an', 'DT'), ('apology', 'NN'), ('making', 'VBG'), ('clear', 'JJ'), ('that', 'IN'), ('the', 'DT'), ('South', 'JJ'), ('Korean', 'JJ'), ('firm', 'NN'), ('had', 'VBD'), ('not', 'RB'), ('copied', 'VBN'), ('its', 'PRP$'), ('iPad', 'NN'), ('when', 'WRB'), ('designing', 'VBG'), ('its', 'PRP$'), ('own', 'JJ'), ('devices', 'NNS'), ('.', '.')]\n"
     ]
    }
   ],
   "source": [
    "pos_tags_per_sentence = []\n",
    "for tokens in tokens_per_sentence:\n",
    "    pos_tagged = nltk.pos_tag(tokens)\n",
    "    pos_tags_per_sentence.append(pos_tagged)\n",
    "    print(pos_tagged)"
   ]
  },
  {
   "cell_type": "code",
   "execution_count": 66,
   "metadata": {},
   "outputs": [
    {
     "name": "stdout",
     "output_type": "stream",
     "text": [
      "[[('https', 'NN'), (':', ':'), ('//www.telegraph.co.uk/technology/apple/9702716/Apple-Samsung-lawsuit-six-more-products-under-scrutiny.html', 'JJ'), ('Documents', 'NNS'), ('filed', 'VBN'), ('to', 'TO'), ('the', 'DT'), ('San', 'NNP'), ('Jose', 'NNP'), ('federal', 'JJ'), ('court', 'NN'), ('in', 'IN'), ('California', 'NNP'), ('on', 'IN'), ('November', 'NNP'), ('23', 'CD'), ('list', 'NN'), ('six', 'CD'), ('Samsung', 'NNP'), ('products', 'NNS'), ('running', 'VBG'), ('the', 'DT'), ('``', '``'), ('Jelly', 'RB'), ('Bean', 'NNP'), (\"''\", \"''\"), ('and', 'CC'), ('``', '``'), ('Ice', 'NNP'), ('Cream', 'NNP'), ('Sandwich', 'NNP'), (\"''\", \"''\"), ('operating', 'VBG'), ('systems', 'NNS'), (',', ','), ('which', 'WDT'), ('Apple', 'NNP'), ('claims', 'VBZ'), ('infringe', 'VB'), ('its', 'PRP$'), ('patents', 'NNS'), ('.', '.')], [('The', 'DT'), ('six', 'CD'), ('phones', 'NNS'), ('and', 'CC'), ('tablets', 'NNS'), ('affected', 'VBN'), ('are', 'VBP'), ('the', 'DT'), ('Galaxy', 'NNP'), ('S', 'NNP'), ('III', 'NNP'), (',', ','), ('running', 'VBG'), ('the', 'DT'), ('new', 'JJ'), ('Jelly', 'NNP'), ('Bean', 'NNP'), ('system', 'NN'), (',', ','), ('the', 'DT'), ('Galaxy', 'NNP'), ('Tab', 'NNP'), ('8.9', 'CD'), ('Wifi', 'NNP'), ('tablet', 'NN'), (',', ','), ('the', 'DT'), ('Galaxy', 'NNP'), ('Tab', 'NNP'), ('2', 'CD'), ('10.1', 'CD'), (',', ','), ('Galaxy', 'NNP'), ('Rugby', 'NNP'), ('Pro', 'NNP'), ('and', 'CC'), ('Galaxy', 'NNP'), ('S', 'NNP'), ('III', 'NNP'), ('mini', 'NN'), ('.', '.')], [('Apple', 'NNP'), ('stated', 'VBD'), ('it', 'PRP'), ('had', 'VBD'), ('“', 'NNP'), ('acted', 'VBD'), ('quickly', 'RB'), ('and', 'CC'), ('diligently', 'RB'), (\"''\", \"''\"), ('in', 'IN'), ('order', 'NN'), ('to', 'TO'), ('``', '``'), ('determine', 'VB'), ('that', 'IN'), ('these', 'DT'), ('newly', 'RB'), ('released', 'VBN'), ('products', 'NNS'), ('do', 'VBP'), ('infringe', 'VB'), ('many', 'JJ'), ('of', 'IN'), ('the', 'DT'), ('same', 'JJ'), ('claims', 'NNS'), ('already', 'RB'), ('asserted', 'VBN'), ('by', 'IN'), ('Apple', 'NNP'), ('.', '.'), (\"''\", \"''\")], [('In', 'IN'), ('August', 'NNP'), (',', ','), ('Samsung', 'NNP'), ('lost', 'VBD'), ('a', 'DT'), ('US', 'NNP'), ('patent', 'NN'), ('case', 'NN'), ('to', 'TO'), ('Apple', 'NNP'), ('and', 'CC'), ('was', 'VBD'), ('ordered', 'VBN'), ('to', 'TO'), ('pay', 'VB'), ('its', 'PRP$'), ('rival', 'JJ'), ('$', '$'), ('1.05bn', 'CD'), ('(', '('), ('£0.66bn', 'NN'), (')', ')'), ('in', 'IN'), ('damages', 'NNS'), ('for', 'IN'), ('copying', 'VBG'), ('features', 'NNS'), ('of', 'IN'), ('the', 'DT'), ('iPad', 'NN'), ('and', 'CC'), ('iPhone', 'NN'), ('in', 'IN'), ('its', 'PRP$'), ('Galaxy', 'NNP'), ('range', 'NN'), ('of', 'IN'), ('devices', 'NNS'), ('.', '.')], [('Samsung', 'NNP'), (',', ','), ('which', 'WDT'), ('is', 'VBZ'), ('the', 'DT'), ('world', 'NN'), (\"'s\", 'POS'), ('top', 'JJ'), ('mobile', 'NN'), ('phone', 'NN'), ('maker', 'NN'), (',', ','), ('is', 'VBZ'), ('appealing', 'VBG'), ('the', 'DT'), ('ruling', 'NN'), ('.', '.')], [('A', 'DT'), ('similar', 'JJ'), ('case', 'NN'), ('in', 'IN'), ('the', 'DT'), ('UK', 'NNP'), ('found', 'VBD'), ('in', 'IN'), ('Samsung', 'NNP'), (\"'s\", 'POS'), ('favour', 'NN'), ('and', 'CC'), ('ordered', 'VBD'), ('Apple', 'NNP'), ('to', 'TO'), ('publish', 'VB'), ('an', 'DT'), ('apology', 'NN'), ('making', 'VBG'), ('clear', 'JJ'), ('that', 'IN'), ('the', 'DT'), ('South', 'JJ'), ('Korean', 'JJ'), ('firm', 'NN'), ('had', 'VBD'), ('not', 'RB'), ('copied', 'VBN'), ('its', 'PRP$'), ('iPad', 'NN'), ('when', 'WRB'), ('designing', 'VBG'), ('its', 'PRP$'), ('own', 'JJ'), ('devices', 'NNS'), ('.', '.')]]\n"
     ]
    }
   ],
   "source": [
    "print(pos_tags_per_sentence)"
   ]
  },
  {
   "cell_type": "markdown",
   "metadata": {},
   "source": [
    "### [point: 1] Exercise 1b: Named Entity Recognition (NER)\n",
    "Use `nltk.chunk.ne_chunk` to perform Named Entity Recognition (NER) on each sentence.\n",
    "\n",
    "Use `print` to **show** the output in the notebook (and hence also in the exported PDF!)."
   ]
  },
  {
   "cell_type": "code",
   "execution_count": 67,
   "metadata": {},
   "outputs": [
    {
     "name": "stdout",
     "output_type": "stream",
     "text": [
      "(S\n",
      "  https/NN\n",
      "  :/:\n",
      "  //www.telegraph.co.uk/technology/apple/9702716/Apple-Samsung-lawsuit-six-more-products-under-scrutiny.html/JJ\n",
      "  Documents/NNS\n",
      "  filed/VBN\n",
      "  to/TO\n",
      "  the/DT\n",
      "  (ORGANIZATION San/NNP Jose/NNP)\n",
      "  federal/JJ\n",
      "  court/NN\n",
      "  in/IN\n",
      "  (GPE California/NNP)\n",
      "  on/IN\n",
      "  November/NNP\n",
      "  23/CD\n",
      "  list/NN\n",
      "  six/CD\n",
      "  (ORGANIZATION Samsung/NNP)\n",
      "  products/NNS\n",
      "  running/VBG\n",
      "  the/DT\n",
      "  ``/``\n",
      "  Jelly/RB\n",
      "  (GPE Bean/NNP)\n",
      "  ''/''\n",
      "  and/CC\n",
      "  ``/``\n",
      "  Ice/NNP\n",
      "  Cream/NNP\n",
      "  Sandwich/NNP\n",
      "  ''/''\n",
      "  operating/VBG\n",
      "  systems/NNS\n",
      "  ,/,\n",
      "  which/WDT\n",
      "  (PERSON Apple/NNP)\n",
      "  claims/VBZ\n",
      "  infringe/VB\n",
      "  its/PRP$\n",
      "  patents/NNS\n",
      "  ./.)\n",
      "(S\n",
      "  The/DT\n",
      "  six/CD\n",
      "  phones/NNS\n",
      "  and/CC\n",
      "  tablets/NNS\n",
      "  affected/VBN\n",
      "  are/VBP\n",
      "  the/DT\n",
      "  (ORGANIZATION Galaxy/NNP)\n",
      "  S/NNP\n",
      "  III/NNP\n",
      "  ,/,\n",
      "  running/VBG\n",
      "  the/DT\n",
      "  new/JJ\n",
      "  (PERSON Jelly/NNP Bean/NNP)\n",
      "  system/NN\n",
      "  ,/,\n",
      "  the/DT\n",
      "  (ORGANIZATION Galaxy/NNP)\n",
      "  Tab/NNP\n",
      "  8.9/CD\n",
      "  Wifi/NNP\n",
      "  tablet/NN\n",
      "  ,/,\n",
      "  the/DT\n",
      "  (ORGANIZATION Galaxy/NNP)\n",
      "  Tab/NNP\n",
      "  2/CD\n",
      "  10.1/CD\n",
      "  ,/,\n",
      "  (PERSON Galaxy/NNP Rugby/NNP Pro/NNP)\n",
      "  and/CC\n",
      "  (PERSON Galaxy/NNP S/NNP)\n",
      "  III/NNP\n",
      "  mini/NN\n",
      "  ./.)\n",
      "(S\n",
      "  (PERSON Apple/NNP)\n",
      "  stated/VBD\n",
      "  it/PRP\n",
      "  had/VBD\n",
      "  “/NNP\n",
      "  acted/VBD\n",
      "  quickly/RB\n",
      "  and/CC\n",
      "  diligently/RB\n",
      "  ''/''\n",
      "  in/IN\n",
      "  order/NN\n",
      "  to/TO\n",
      "  ``/``\n",
      "  determine/VB\n",
      "  that/IN\n",
      "  these/DT\n",
      "  newly/RB\n",
      "  released/VBN\n",
      "  products/NNS\n",
      "  do/VBP\n",
      "  infringe/VB\n",
      "  many/JJ\n",
      "  of/IN\n",
      "  the/DT\n",
      "  same/JJ\n",
      "  claims/NNS\n",
      "  already/RB\n",
      "  asserted/VBN\n",
      "  by/IN\n",
      "  (PERSON Apple/NNP)\n",
      "  ./.\n",
      "  ''/'')\n",
      "(S\n",
      "  In/IN\n",
      "  (GPE August/NNP)\n",
      "  ,/,\n",
      "  (PERSON Samsung/NNP)\n",
      "  lost/VBD\n",
      "  a/DT\n",
      "  (GSP US/NNP)\n",
      "  patent/NN\n",
      "  case/NN\n",
      "  to/TO\n",
      "  (GPE Apple/NNP)\n",
      "  and/CC\n",
      "  was/VBD\n",
      "  ordered/VBN\n",
      "  to/TO\n",
      "  pay/VB\n",
      "  its/PRP$\n",
      "  rival/JJ\n",
      "  $/$\n",
      "  1.05bn/CD\n",
      "  (/(\n",
      "  £0.66bn/NN\n",
      "  )/)\n",
      "  in/IN\n",
      "  damages/NNS\n",
      "  for/IN\n",
      "  copying/VBG\n",
      "  features/NNS\n",
      "  of/IN\n",
      "  the/DT\n",
      "  (ORGANIZATION iPad/NN)\n",
      "  and/CC\n",
      "  (ORGANIZATION iPhone/NN)\n",
      "  in/IN\n",
      "  its/PRP$\n",
      "  (GPE Galaxy/NNP)\n",
      "  range/NN\n",
      "  of/IN\n",
      "  devices/NNS\n",
      "  ./.)\n",
      "(S\n",
      "  (GPE Samsung/NNP)\n",
      "  ,/,\n",
      "  which/WDT\n",
      "  is/VBZ\n",
      "  the/DT\n",
      "  world/NN\n",
      "  's/POS\n",
      "  top/JJ\n",
      "  mobile/NN\n",
      "  phone/NN\n",
      "  maker/NN\n",
      "  ,/,\n",
      "  is/VBZ\n",
      "  appealing/VBG\n",
      "  the/DT\n",
      "  ruling/NN\n",
      "  ./.)\n",
      "(S\n",
      "  A/DT\n",
      "  similar/JJ\n",
      "  case/NN\n",
      "  in/IN\n",
      "  the/DT\n",
      "  (ORGANIZATION UK/NNP)\n",
      "  found/VBD\n",
      "  in/IN\n",
      "  (GPE Samsung/NNP)\n",
      "  's/POS\n",
      "  favour/NN\n",
      "  and/CC\n",
      "  ordered/VBD\n",
      "  (PERSON Apple/NNP)\n",
      "  to/TO\n",
      "  publish/VB\n",
      "  an/DT\n",
      "  apology/NN\n",
      "  making/VBG\n",
      "  clear/JJ\n",
      "  that/IN\n",
      "  the/DT\n",
      "  (LOCATION South/JJ Korean/JJ)\n",
      "  firm/NN\n",
      "  had/VBD\n",
      "  not/RB\n",
      "  copied/VBN\n",
      "  its/PRP$\n",
      "  iPad/NN\n",
      "  when/WRB\n",
      "  designing/VBG\n",
      "  its/PRP$\n",
      "  own/JJ\n",
      "  devices/NNS\n",
      "  ./.)\n"
     ]
    }
   ],
   "source": [
    "ner_tags_per_sentence = []\n",
    "for ner_tag in pos_tags_per_sentence:\n",
    "    ner_tag = nltk.chunk.ne_chunk(ner_tag)\n",
    "    ner_tags_per_sentence.append(ner_tag)\n",
    "    print(ner_tag)\n"
   ]
  },
  {
   "cell_type": "code",
   "execution_count": 68,
   "metadata": {},
   "outputs": [
    {
     "name": "stdout",
     "output_type": "stream",
     "text": [
      "[Tree('S', [('https', 'NN'), (':', ':'), ('//www.telegraph.co.uk/technology/apple/9702716/Apple-Samsung-lawsuit-six-more-products-under-scrutiny.html', 'JJ'), ('Documents', 'NNS'), ('filed', 'VBN'), ('to', 'TO'), ('the', 'DT'), Tree('ORGANIZATION', [('San', 'NNP'), ('Jose', 'NNP')]), ('federal', 'JJ'), ('court', 'NN'), ('in', 'IN'), Tree('GPE', [('California', 'NNP')]), ('on', 'IN'), ('November', 'NNP'), ('23', 'CD'), ('list', 'NN'), ('six', 'CD'), Tree('ORGANIZATION', [('Samsung', 'NNP')]), ('products', 'NNS'), ('running', 'VBG'), ('the', 'DT'), ('``', '``'), ('Jelly', 'RB'), Tree('GPE', [('Bean', 'NNP')]), (\"''\", \"''\"), ('and', 'CC'), ('``', '``'), ('Ice', 'NNP'), ('Cream', 'NNP'), ('Sandwich', 'NNP'), (\"''\", \"''\"), ('operating', 'VBG'), ('systems', 'NNS'), (',', ','), ('which', 'WDT'), Tree('PERSON', [('Apple', 'NNP')]), ('claims', 'VBZ'), ('infringe', 'VB'), ('its', 'PRP$'), ('patents', 'NNS'), ('.', '.')]), Tree('S', [('The', 'DT'), ('six', 'CD'), ('phones', 'NNS'), ('and', 'CC'), ('tablets', 'NNS'), ('affected', 'VBN'), ('are', 'VBP'), ('the', 'DT'), Tree('ORGANIZATION', [('Galaxy', 'NNP')]), ('S', 'NNP'), ('III', 'NNP'), (',', ','), ('running', 'VBG'), ('the', 'DT'), ('new', 'JJ'), Tree('PERSON', [('Jelly', 'NNP'), ('Bean', 'NNP')]), ('system', 'NN'), (',', ','), ('the', 'DT'), Tree('ORGANIZATION', [('Galaxy', 'NNP')]), ('Tab', 'NNP'), ('8.9', 'CD'), ('Wifi', 'NNP'), ('tablet', 'NN'), (',', ','), ('the', 'DT'), Tree('ORGANIZATION', [('Galaxy', 'NNP')]), ('Tab', 'NNP'), ('2', 'CD'), ('10.1', 'CD'), (',', ','), Tree('PERSON', [('Galaxy', 'NNP'), ('Rugby', 'NNP'), ('Pro', 'NNP')]), ('and', 'CC'), Tree('PERSON', [('Galaxy', 'NNP'), ('S', 'NNP')]), ('III', 'NNP'), ('mini', 'NN'), ('.', '.')]), Tree('S', [Tree('PERSON', [('Apple', 'NNP')]), ('stated', 'VBD'), ('it', 'PRP'), ('had', 'VBD'), ('“', 'NNP'), ('acted', 'VBD'), ('quickly', 'RB'), ('and', 'CC'), ('diligently', 'RB'), (\"''\", \"''\"), ('in', 'IN'), ('order', 'NN'), ('to', 'TO'), ('``', '``'), ('determine', 'VB'), ('that', 'IN'), ('these', 'DT'), ('newly', 'RB'), ('released', 'VBN'), ('products', 'NNS'), ('do', 'VBP'), ('infringe', 'VB'), ('many', 'JJ'), ('of', 'IN'), ('the', 'DT'), ('same', 'JJ'), ('claims', 'NNS'), ('already', 'RB'), ('asserted', 'VBN'), ('by', 'IN'), Tree('PERSON', [('Apple', 'NNP')]), ('.', '.'), (\"''\", \"''\")]), Tree('S', [('In', 'IN'), Tree('GPE', [('August', 'NNP')]), (',', ','), Tree('PERSON', [('Samsung', 'NNP')]), ('lost', 'VBD'), ('a', 'DT'), Tree('GSP', [('US', 'NNP')]), ('patent', 'NN'), ('case', 'NN'), ('to', 'TO'), Tree('GPE', [('Apple', 'NNP')]), ('and', 'CC'), ('was', 'VBD'), ('ordered', 'VBN'), ('to', 'TO'), ('pay', 'VB'), ('its', 'PRP$'), ('rival', 'JJ'), ('$', '$'), ('1.05bn', 'CD'), ('(', '('), ('£0.66bn', 'NN'), (')', ')'), ('in', 'IN'), ('damages', 'NNS'), ('for', 'IN'), ('copying', 'VBG'), ('features', 'NNS'), ('of', 'IN'), ('the', 'DT'), Tree('ORGANIZATION', [('iPad', 'NN')]), ('and', 'CC'), Tree('ORGANIZATION', [('iPhone', 'NN')]), ('in', 'IN'), ('its', 'PRP$'), Tree('GPE', [('Galaxy', 'NNP')]), ('range', 'NN'), ('of', 'IN'), ('devices', 'NNS'), ('.', '.')]), Tree('S', [Tree('GPE', [('Samsung', 'NNP')]), (',', ','), ('which', 'WDT'), ('is', 'VBZ'), ('the', 'DT'), ('world', 'NN'), (\"'s\", 'POS'), ('top', 'JJ'), ('mobile', 'NN'), ('phone', 'NN'), ('maker', 'NN'), (',', ','), ('is', 'VBZ'), ('appealing', 'VBG'), ('the', 'DT'), ('ruling', 'NN'), ('.', '.')]), Tree('S', [('A', 'DT'), ('similar', 'JJ'), ('case', 'NN'), ('in', 'IN'), ('the', 'DT'), Tree('ORGANIZATION', [('UK', 'NNP')]), ('found', 'VBD'), ('in', 'IN'), Tree('GPE', [('Samsung', 'NNP')]), (\"'s\", 'POS'), ('favour', 'NN'), ('and', 'CC'), ('ordered', 'VBD'), Tree('PERSON', [('Apple', 'NNP')]), ('to', 'TO'), ('publish', 'VB'), ('an', 'DT'), ('apology', 'NN'), ('making', 'VBG'), ('clear', 'JJ'), ('that', 'IN'), ('the', 'DT'), Tree('LOCATION', [('South', 'JJ'), ('Korean', 'JJ')]), ('firm', 'NN'), ('had', 'VBD'), ('not', 'RB'), ('copied', 'VBN'), ('its', 'PRP$'), ('iPad', 'NN'), ('when', 'WRB'), ('designing', 'VBG'), ('its', 'PRP$'), ('own', 'JJ'), ('devices', 'NNS'), ('.', '.')])]\n"
     ]
    }
   ],
   "source": [
    "print(ner_tags_per_sentence)"
   ]
  },
  {
   "cell_type": "markdown",
   "metadata": {},
   "source": [
    "### [points: 2] Exercise 1c: Constituency parsing\n",
    "Use the `nltk.RegexpParser` to perform constituency parsing on each sentence.\n",
    "\n",
    "Use `print` to **show** the output in the notebook (and hence also in the exported PDF!)."
   ]
  },
  {
   "cell_type": "code",
   "execution_count": 69,
   "metadata": {},
   "outputs": [],
   "source": [
    "constituent_parser = nltk.RegexpParser('''\n",
    "NP: {<DT>? <JJ>* <NN>*} # NP\n",
    "P: {<IN>}           # Preposition\n",
    "V: {<V.*>}          # Verb\n",
    "PP: {<P> <NP>}      # PP -> P NP\n",
    "VP: {<V> <NP|PP>*}  # VP -> V (NP|PP)*''')"
   ]
  },
  {
   "cell_type": "code",
   "execution_count": 70,
   "metadata": {},
   "outputs": [
    {
     "name": "stdout",
     "output_type": "stream",
     "text": [
      "(S\n",
      "  (NP https/NN)\n",
      "  :/:\n",
      "  (NP\n",
      "    //www.telegraph.co.uk/technology/apple/9702716/Apple-Samsung-lawsuit-six-more-products-under-scrutiny.html/JJ)\n",
      "  Documents/NNS\n",
      "  (VP (V filed/VBN))\n",
      "  to/TO\n",
      "  (NP the/DT)\n",
      "  (ORGANIZATION San/NNP Jose/NNP)\n",
      "  (NP federal/JJ court/NN)\n",
      "  (P in/IN)\n",
      "  (GPE California/NNP)\n",
      "  (P on/IN)\n",
      "  November/NNP\n",
      "  23/CD\n",
      "  (NP list/NN)\n",
      "  six/CD\n",
      "  (ORGANIZATION Samsung/NNP)\n",
      "  products/NNS\n",
      "  (VP (V running/VBG) (NP the/DT))\n",
      "  ``/``\n",
      "  Jelly/RB\n",
      "  (GPE Bean/NNP)\n",
      "  ''/''\n",
      "  and/CC\n",
      "  ``/``\n",
      "  Ice/NNP\n",
      "  Cream/NNP\n",
      "  Sandwich/NNP\n",
      "  ''/''\n",
      "  (VP (V operating/VBG))\n",
      "  systems/NNS\n",
      "  ,/,\n",
      "  which/WDT\n",
      "  (PERSON Apple/NNP)\n",
      "  (VP (V claims/VBZ))\n",
      "  (VP (V infringe/VB))\n",
      "  its/PRP$\n",
      "  patents/NNS\n",
      "  ./.)\n",
      "(S\n",
      "  (NP The/DT)\n",
      "  six/CD\n",
      "  phones/NNS\n",
      "  and/CC\n",
      "  tablets/NNS\n",
      "  (VP (V affected/VBN))\n",
      "  (VP (V are/VBP) (NP the/DT))\n",
      "  (ORGANIZATION Galaxy/NNP)\n",
      "  S/NNP\n",
      "  III/NNP\n",
      "  ,/,\n",
      "  (VP (V running/VBG) (NP the/DT new/JJ))\n",
      "  (PERSON Jelly/NNP Bean/NNP)\n",
      "  (NP system/NN)\n",
      "  ,/,\n",
      "  (NP the/DT)\n",
      "  (ORGANIZATION Galaxy/NNP)\n",
      "  Tab/NNP\n",
      "  8.9/CD\n",
      "  Wifi/NNP\n",
      "  (NP tablet/NN)\n",
      "  ,/,\n",
      "  (NP the/DT)\n",
      "  (ORGANIZATION Galaxy/NNP)\n",
      "  Tab/NNP\n",
      "  2/CD\n",
      "  10.1/CD\n",
      "  ,/,\n",
      "  (PERSON Galaxy/NNP Rugby/NNP Pro/NNP)\n",
      "  and/CC\n",
      "  (PERSON Galaxy/NNP S/NNP)\n",
      "  III/NNP\n",
      "  (NP mini/NN)\n",
      "  ./.)\n",
      "(S\n",
      "  (PERSON Apple/NNP)\n",
      "  (VP (V stated/VBD))\n",
      "  it/PRP\n",
      "  (VP (V had/VBD))\n",
      "  “/NNP\n",
      "  (VP (V acted/VBD))\n",
      "  quickly/RB\n",
      "  and/CC\n",
      "  diligently/RB\n",
      "  ''/''\n",
      "  (PP (P in/IN) (NP order/NN))\n",
      "  to/TO\n",
      "  ``/``\n",
      "  (VP (V determine/VB) (PP (P that/IN) (NP these/DT)))\n",
      "  newly/RB\n",
      "  (VP (V released/VBN))\n",
      "  products/NNS\n",
      "  (VP (V do/VBP))\n",
      "  (VP\n",
      "    (V infringe/VB)\n",
      "    (NP many/JJ)\n",
      "    (PP (P of/IN) (NP the/DT same/JJ)))\n",
      "  claims/NNS\n",
      "  already/RB\n",
      "  (VP (V asserted/VBN))\n",
      "  (P by/IN)\n",
      "  (PERSON Apple/NNP)\n",
      "  ./.\n",
      "  ''/'')\n",
      "(S\n",
      "  (P In/IN)\n",
      "  (GPE August/NNP)\n",
      "  ,/,\n",
      "  (PERSON Samsung/NNP)\n",
      "  (VP (V lost/VBD) (NP a/DT))\n",
      "  (GSP US/NNP)\n",
      "  (NP patent/NN case/NN)\n",
      "  to/TO\n",
      "  (GPE Apple/NNP)\n",
      "  and/CC\n",
      "  (VP (V was/VBD))\n",
      "  (VP (V ordered/VBN))\n",
      "  to/TO\n",
      "  (VP (V pay/VB))\n",
      "  its/PRP$\n",
      "  (NP rival/JJ)\n",
      "  $/$\n",
      "  1.05bn/CD\n",
      "  (/(\n",
      "  (NP £0.66bn/NN)\n",
      "  )/)\n",
      "  (P in/IN)\n",
      "  damages/NNS\n",
      "  (P for/IN)\n",
      "  (VP (V copying/VBG))\n",
      "  features/NNS\n",
      "  (PP (P of/IN) (NP the/DT))\n",
      "  (ORGANIZATION iPad/NN)\n",
      "  and/CC\n",
      "  (ORGANIZATION iPhone/NN)\n",
      "  (P in/IN)\n",
      "  its/PRP$\n",
      "  (GPE Galaxy/NNP)\n",
      "  (NP range/NN)\n",
      "  (P of/IN)\n",
      "  devices/NNS\n",
      "  ./.)\n",
      "(S\n",
      "  (GPE Samsung/NNP)\n",
      "  ,/,\n",
      "  which/WDT\n",
      "  (VP (V is/VBZ) (NP the/DT world/NN))\n",
      "  's/POS\n",
      "  (NP top/JJ mobile/NN phone/NN maker/NN)\n",
      "  ,/,\n",
      "  (VP (V is/VBZ))\n",
      "  (VP (V appealing/VBG) (NP the/DT ruling/NN))\n",
      "  ./.)\n",
      "(S\n",
      "  (NP A/DT similar/JJ case/NN)\n",
      "  (PP (P in/IN) (NP the/DT))\n",
      "  (ORGANIZATION UK/NNP)\n",
      "  (VP (V found/VBD))\n",
      "  (P in/IN)\n",
      "  (GPE Samsung/NNP)\n",
      "  's/POS\n",
      "  (NP favour/NN)\n",
      "  and/CC\n",
      "  (VP (V ordered/VBD))\n",
      "  (PERSON Apple/NNP)\n",
      "  to/TO\n",
      "  (VP (V publish/VB) (NP an/DT apology/NN))\n",
      "  (VP (V making/VBG) (NP clear/JJ) (PP (P that/IN) (NP the/DT)))\n",
      "  (LOCATION South/JJ Korean/JJ)\n",
      "  (NP firm/NN)\n",
      "  (VP (V had/VBD))\n",
      "  not/RB\n",
      "  (VP (V copied/VBN))\n",
      "  its/PRP$\n",
      "  (NP iPad/NN)\n",
      "  when/WRB\n",
      "  (VP (V designing/VBG))\n",
      "  its/PRP$\n",
      "  (NP own/JJ)\n",
      "  devices/NNS\n",
      "  ./.)\n"
     ]
    }
   ],
   "source": [
    "constituency_output_per_sentence = []\n",
    "for ner_tag in ner_tags_per_sentence:\n",
    "    parsed = constituent_parser.parse(ner_tag)\n",
    "    constituency_output_per_sentence.append(parsed)\n",
    "    print(parsed)"
   ]
  },
  {
   "cell_type": "code",
   "execution_count": 71,
   "metadata": {},
   "outputs": [
    {
     "name": "stdout",
     "output_type": "stream",
     "text": [
      "[Tree('S', [Tree('NP', [('https', 'NN')]), (':', ':'), Tree('NP', [('//www.telegraph.co.uk/technology/apple/9702716/Apple-Samsung-lawsuit-six-more-products-under-scrutiny.html', 'JJ')]), ('Documents', 'NNS'), Tree('VP', [Tree('V', [('filed', 'VBN')])]), ('to', 'TO'), Tree('NP', [('the', 'DT')]), Tree('ORGANIZATION', [('San', 'NNP'), ('Jose', 'NNP')]), Tree('NP', [('federal', 'JJ'), ('court', 'NN')]), Tree('P', [('in', 'IN')]), Tree('GPE', [('California', 'NNP')]), Tree('P', [('on', 'IN')]), ('November', 'NNP'), ('23', 'CD'), Tree('NP', [('list', 'NN')]), ('six', 'CD'), Tree('ORGANIZATION', [('Samsung', 'NNP')]), ('products', 'NNS'), Tree('VP', [Tree('V', [('running', 'VBG')]), Tree('NP', [('the', 'DT')])]), ('``', '``'), ('Jelly', 'RB'), Tree('GPE', [('Bean', 'NNP')]), (\"''\", \"''\"), ('and', 'CC'), ('``', '``'), ('Ice', 'NNP'), ('Cream', 'NNP'), ('Sandwich', 'NNP'), (\"''\", \"''\"), Tree('VP', [Tree('V', [('operating', 'VBG')])]), ('systems', 'NNS'), (',', ','), ('which', 'WDT'), Tree('PERSON', [('Apple', 'NNP')]), Tree('VP', [Tree('V', [('claims', 'VBZ')])]), Tree('VP', [Tree('V', [('infringe', 'VB')])]), ('its', 'PRP$'), ('patents', 'NNS'), ('.', '.')]), Tree('S', [Tree('NP', [('The', 'DT')]), ('six', 'CD'), ('phones', 'NNS'), ('and', 'CC'), ('tablets', 'NNS'), Tree('VP', [Tree('V', [('affected', 'VBN')])]), Tree('VP', [Tree('V', [('are', 'VBP')]), Tree('NP', [('the', 'DT')])]), Tree('ORGANIZATION', [('Galaxy', 'NNP')]), ('S', 'NNP'), ('III', 'NNP'), (',', ','), Tree('VP', [Tree('V', [('running', 'VBG')]), Tree('NP', [('the', 'DT'), ('new', 'JJ')])]), Tree('PERSON', [('Jelly', 'NNP'), ('Bean', 'NNP')]), Tree('NP', [('system', 'NN')]), (',', ','), Tree('NP', [('the', 'DT')]), Tree('ORGANIZATION', [('Galaxy', 'NNP')]), ('Tab', 'NNP'), ('8.9', 'CD'), ('Wifi', 'NNP'), Tree('NP', [('tablet', 'NN')]), (',', ','), Tree('NP', [('the', 'DT')]), Tree('ORGANIZATION', [('Galaxy', 'NNP')]), ('Tab', 'NNP'), ('2', 'CD'), ('10.1', 'CD'), (',', ','), Tree('PERSON', [('Galaxy', 'NNP'), ('Rugby', 'NNP'), ('Pro', 'NNP')]), ('and', 'CC'), Tree('PERSON', [('Galaxy', 'NNP'), ('S', 'NNP')]), ('III', 'NNP'), Tree('NP', [('mini', 'NN')]), ('.', '.')]), Tree('S', [Tree('PERSON', [('Apple', 'NNP')]), Tree('VP', [Tree('V', [('stated', 'VBD')])]), ('it', 'PRP'), Tree('VP', [Tree('V', [('had', 'VBD')])]), ('“', 'NNP'), Tree('VP', [Tree('V', [('acted', 'VBD')])]), ('quickly', 'RB'), ('and', 'CC'), ('diligently', 'RB'), (\"''\", \"''\"), Tree('PP', [Tree('P', [('in', 'IN')]), Tree('NP', [('order', 'NN')])]), ('to', 'TO'), ('``', '``'), Tree('VP', [Tree('V', [('determine', 'VB')]), Tree('PP', [Tree('P', [('that', 'IN')]), Tree('NP', [('these', 'DT')])])]), ('newly', 'RB'), Tree('VP', [Tree('V', [('released', 'VBN')])]), ('products', 'NNS'), Tree('VP', [Tree('V', [('do', 'VBP')])]), Tree('VP', [Tree('V', [('infringe', 'VB')]), Tree('NP', [('many', 'JJ')]), Tree('PP', [Tree('P', [('of', 'IN')]), Tree('NP', [('the', 'DT'), ('same', 'JJ')])])]), ('claims', 'NNS'), ('already', 'RB'), Tree('VP', [Tree('V', [('asserted', 'VBN')])]), Tree('P', [('by', 'IN')]), Tree('PERSON', [('Apple', 'NNP')]), ('.', '.'), (\"''\", \"''\")]), Tree('S', [Tree('P', [('In', 'IN')]), Tree('GPE', [('August', 'NNP')]), (',', ','), Tree('PERSON', [('Samsung', 'NNP')]), Tree('VP', [Tree('V', [('lost', 'VBD')]), Tree('NP', [('a', 'DT')])]), Tree('GSP', [('US', 'NNP')]), Tree('NP', [('patent', 'NN'), ('case', 'NN')]), ('to', 'TO'), Tree('GPE', [('Apple', 'NNP')]), ('and', 'CC'), Tree('VP', [Tree('V', [('was', 'VBD')])]), Tree('VP', [Tree('V', [('ordered', 'VBN')])]), ('to', 'TO'), Tree('VP', [Tree('V', [('pay', 'VB')])]), ('its', 'PRP$'), Tree('NP', [('rival', 'JJ')]), ('$', '$'), ('1.05bn', 'CD'), ('(', '('), Tree('NP', [('£0.66bn', 'NN')]), (')', ')'), Tree('P', [('in', 'IN')]), ('damages', 'NNS'), Tree('P', [('for', 'IN')]), Tree('VP', [Tree('V', [('copying', 'VBG')])]), ('features', 'NNS'), Tree('PP', [Tree('P', [('of', 'IN')]), Tree('NP', [('the', 'DT')])]), Tree('ORGANIZATION', [('iPad', 'NN')]), ('and', 'CC'), Tree('ORGANIZATION', [('iPhone', 'NN')]), Tree('P', [('in', 'IN')]), ('its', 'PRP$'), Tree('GPE', [('Galaxy', 'NNP')]), Tree('NP', [('range', 'NN')]), Tree('P', [('of', 'IN')]), ('devices', 'NNS'), ('.', '.')]), Tree('S', [Tree('GPE', [('Samsung', 'NNP')]), (',', ','), ('which', 'WDT'), Tree('VP', [Tree('V', [('is', 'VBZ')]), Tree('NP', [('the', 'DT'), ('world', 'NN')])]), (\"'s\", 'POS'), Tree('NP', [('top', 'JJ'), ('mobile', 'NN'), ('phone', 'NN'), ('maker', 'NN')]), (',', ','), Tree('VP', [Tree('V', [('is', 'VBZ')])]), Tree('VP', [Tree('V', [('appealing', 'VBG')]), Tree('NP', [('the', 'DT'), ('ruling', 'NN')])]), ('.', '.')]), Tree('S', [Tree('NP', [('A', 'DT'), ('similar', 'JJ'), ('case', 'NN')]), Tree('PP', [Tree('P', [('in', 'IN')]), Tree('NP', [('the', 'DT')])]), Tree('ORGANIZATION', [('UK', 'NNP')]), Tree('VP', [Tree('V', [('found', 'VBD')])]), Tree('P', [('in', 'IN')]), Tree('GPE', [('Samsung', 'NNP')]), (\"'s\", 'POS'), Tree('NP', [('favour', 'NN')]), ('and', 'CC'), Tree('VP', [Tree('V', [('ordered', 'VBD')])]), Tree('PERSON', [('Apple', 'NNP')]), ('to', 'TO'), Tree('VP', [Tree('V', [('publish', 'VB')]), Tree('NP', [('an', 'DT'), ('apology', 'NN')])]), Tree('VP', [Tree('V', [('making', 'VBG')]), Tree('NP', [('clear', 'JJ')]), Tree('PP', [Tree('P', [('that', 'IN')]), Tree('NP', [('the', 'DT')])])]), Tree('LOCATION', [('South', 'JJ'), ('Korean', 'JJ')]), Tree('NP', [('firm', 'NN')]), Tree('VP', [Tree('V', [('had', 'VBD')])]), ('not', 'RB'), Tree('VP', [Tree('V', [('copied', 'VBN')])]), ('its', 'PRP$'), Tree('NP', [('iPad', 'NN')]), ('when', 'WRB'), Tree('VP', [Tree('V', [('designing', 'VBG')])]), ('its', 'PRP$'), Tree('NP', [('own', 'JJ')]), ('devices', 'NNS'), ('.', '.')])]\n"
     ]
    }
   ],
   "source": [
    "print(constituency_output_per_sentence)"
   ]
  },
  {
   "cell_type": "markdown",
   "metadata": {},
   "source": [
    "Augment the RegexpParser so that it also detects Named Entity Phrases (NEP), e.g., that it detects *Galaxy S III* and *Ice Cream Sandwich*"
   ]
  },
  {
   "cell_type": "code",
   "execution_count": 72,
   "metadata": {},
   "outputs": [],
   "source": [
    "constituent_parser_v2 = nltk.RegexpParser('''\n",
    "NP: {<DT>? <JJ>* <NN>*} # NP\n",
    "P: {<IN>}           # Preposition\n",
    "V: {<V.*>}          # Verb\n",
    "PP: {<P> <NP>}      # PP -> P NP\n",
    "VP: {<V> <NP|PP>*}  # VP -> V (NP|PP)*\n",
    "NEP: {<NNP>+<NN|NNP|NNPS|JJ|CD>*}             # ???''')"
   ]
  },
  {
   "cell_type": "code",
   "execution_count": 73,
   "metadata": {},
   "outputs": [
    {
     "name": "stdout",
     "output_type": "stream",
     "text": [
      "(S\n",
      "  (NP https/NN)\n",
      "  :/:\n",
      "  (NP\n",
      "    //www.telegraph.co.uk/technology/apple/9702716/Apple-Samsung-lawsuit-six-more-products-under-scrutiny.html/JJ)\n",
      "  Documents/NNS\n",
      "  (VP (V filed/VBN))\n",
      "  to/TO\n",
      "  (NP the/DT)\n",
      "  (ORGANIZATION San/NNP Jose/NNP)\n",
      "  (NP federal/JJ court/NN)\n",
      "  (P in/IN)\n",
      "  (GPE California/NNP)\n",
      "  (P on/IN)\n",
      "  November/NNP\n",
      "  23/CD\n",
      "  (NP list/NN)\n",
      "  six/CD\n",
      "  (ORGANIZATION Samsung/NNP)\n",
      "  products/NNS\n",
      "  (VP (V running/VBG) (NP the/DT))\n",
      "  ``/``\n",
      "  Jelly/RB\n",
      "  (GPE Bean/NNP)\n",
      "  ''/''\n",
      "  and/CC\n",
      "  ``/``\n",
      "  Ice/NNP\n",
      "  Cream/NNP\n",
      "  Sandwich/NNP\n",
      "  ''/''\n",
      "  (VP (V operating/VBG))\n",
      "  systems/NNS\n",
      "  ,/,\n",
      "  which/WDT\n",
      "  (PERSON Apple/NNP)\n",
      "  (VP (V claims/VBZ))\n",
      "  (VP (V infringe/VB))\n",
      "  its/PRP$\n",
      "  patents/NNS\n",
      "  ./.)\n",
      "(S\n",
      "  (NP The/DT)\n",
      "  six/CD\n",
      "  phones/NNS\n",
      "  and/CC\n",
      "  tablets/NNS\n",
      "  (VP (V affected/VBN))\n",
      "  (VP (V are/VBP) (NP the/DT))\n",
      "  (ORGANIZATION Galaxy/NNP)\n",
      "  S/NNP\n",
      "  III/NNP\n",
      "  ,/,\n",
      "  (VP (V running/VBG) (NP the/DT new/JJ))\n",
      "  (PERSON Jelly/NNP Bean/NNP)\n",
      "  (NP system/NN)\n",
      "  ,/,\n",
      "  (NP the/DT)\n",
      "  (ORGANIZATION Galaxy/NNP)\n",
      "  Tab/NNP\n",
      "  8.9/CD\n",
      "  Wifi/NNP\n",
      "  (NP tablet/NN)\n",
      "  ,/,\n",
      "  (NP the/DT)\n",
      "  (ORGANIZATION Galaxy/NNP)\n",
      "  Tab/NNP\n",
      "  2/CD\n",
      "  10.1/CD\n",
      "  ,/,\n",
      "  (PERSON Galaxy/NNP Rugby/NNP Pro/NNP)\n",
      "  and/CC\n",
      "  (PERSON Galaxy/NNP S/NNP)\n",
      "  III/NNP\n",
      "  (NP mini/NN)\n",
      "  ./.)\n",
      "(S\n",
      "  (PERSON Apple/NNP)\n",
      "  (VP (V stated/VBD))\n",
      "  it/PRP\n",
      "  (VP (V had/VBD))\n",
      "  “/NNP\n",
      "  (VP (V acted/VBD))\n",
      "  quickly/RB\n",
      "  and/CC\n",
      "  diligently/RB\n",
      "  ''/''\n",
      "  (PP (P in/IN) (NP order/NN))\n",
      "  to/TO\n",
      "  ``/``\n",
      "  (VP (V determine/VB) (PP (P that/IN) (NP these/DT)))\n",
      "  newly/RB\n",
      "  (VP (V released/VBN))\n",
      "  products/NNS\n",
      "  (VP (V do/VBP))\n",
      "  (VP\n",
      "    (V infringe/VB)\n",
      "    (NP many/JJ)\n",
      "    (PP (P of/IN) (NP the/DT same/JJ)))\n",
      "  claims/NNS\n",
      "  already/RB\n",
      "  (VP (V asserted/VBN))\n",
      "  (P by/IN)\n",
      "  (PERSON Apple/NNP)\n",
      "  ./.\n",
      "  ''/'')\n",
      "(S\n",
      "  (P In/IN)\n",
      "  (GPE August/NNP)\n",
      "  ,/,\n",
      "  (PERSON Samsung/NNP)\n",
      "  (VP (V lost/VBD) (NP a/DT))\n",
      "  (GSP US/NNP)\n",
      "  (NP patent/NN case/NN)\n",
      "  to/TO\n",
      "  (GPE Apple/NNP)\n",
      "  and/CC\n",
      "  (VP (V was/VBD))\n",
      "  (VP (V ordered/VBN))\n",
      "  to/TO\n",
      "  (VP (V pay/VB))\n",
      "  its/PRP$\n",
      "  (NP rival/JJ)\n",
      "  $/$\n",
      "  1.05bn/CD\n",
      "  (/(\n",
      "  (NP £0.66bn/NN)\n",
      "  )/)\n",
      "  (P in/IN)\n",
      "  damages/NNS\n",
      "  (P for/IN)\n",
      "  (VP (V copying/VBG))\n",
      "  features/NNS\n",
      "  (PP (P of/IN) (NP the/DT))\n",
      "  (ORGANIZATION iPad/NN)\n",
      "  and/CC\n",
      "  (ORGANIZATION iPhone/NN)\n",
      "  (P in/IN)\n",
      "  its/PRP$\n",
      "  (GPE Galaxy/NNP)\n",
      "  (NP range/NN)\n",
      "  (P of/IN)\n",
      "  devices/NNS\n",
      "  ./.)\n",
      "(S\n",
      "  (GPE Samsung/NNP)\n",
      "  ,/,\n",
      "  which/WDT\n",
      "  (VP (V is/VBZ) (NP the/DT world/NN))\n",
      "  's/POS\n",
      "  (NP top/JJ mobile/NN phone/NN maker/NN)\n",
      "  ,/,\n",
      "  (VP (V is/VBZ))\n",
      "  (VP (V appealing/VBG) (NP the/DT ruling/NN))\n",
      "  ./.)\n",
      "(S\n",
      "  (NP A/DT similar/JJ case/NN)\n",
      "  (PP (P in/IN) (NP the/DT))\n",
      "  (ORGANIZATION UK/NNP)\n",
      "  (VP (V found/VBD))\n",
      "  (P in/IN)\n",
      "  (GPE Samsung/NNP)\n",
      "  's/POS\n",
      "  (NP favour/NN)\n",
      "  and/CC\n",
      "  (VP (V ordered/VBD))\n",
      "  (PERSON Apple/NNP)\n",
      "  to/TO\n",
      "  (VP (V publish/VB) (NP an/DT apology/NN))\n",
      "  (VP (V making/VBG) (NP clear/JJ) (PP (P that/IN) (NP the/DT)))\n",
      "  (LOCATION South/JJ Korean/JJ)\n",
      "  (NP firm/NN)\n",
      "  (VP (V had/VBD))\n",
      "  not/RB\n",
      "  (VP (V copied/VBN))\n",
      "  its/PRP$\n",
      "  (NP iPad/NN)\n",
      "  when/WRB\n",
      "  (VP (V designing/VBG))\n",
      "  its/PRP$\n",
      "  (NP own/JJ)\n",
      "  devices/NNS\n",
      "  ./.)\n"
     ]
    }
   ],
   "source": [
    "constituency_v2_output_per_sentence = []\n",
    "for ner_tag in ner_tags_per_sentence:\n",
    "    parsed = constituent_parser.parse(ner_tag)\n",
    "    constituency_v2_output_per_sentence.append(parsed)\n",
    "    print(parsed)"
   ]
  },
  {
   "cell_type": "code",
   "execution_count": 74,
   "metadata": {},
   "outputs": [
    {
     "name": "stdout",
     "output_type": "stream",
     "text": [
      "[Tree('S', [Tree('NP', [('https', 'NN')]), (':', ':'), Tree('NP', [('//www.telegraph.co.uk/technology/apple/9702716/Apple-Samsung-lawsuit-six-more-products-under-scrutiny.html', 'JJ')]), ('Documents', 'NNS'), Tree('VP', [Tree('V', [('filed', 'VBN')])]), ('to', 'TO'), Tree('NP', [('the', 'DT')]), Tree('ORGANIZATION', [('San', 'NNP'), ('Jose', 'NNP')]), Tree('NP', [('federal', 'JJ'), ('court', 'NN')]), Tree('P', [('in', 'IN')]), Tree('GPE', [('California', 'NNP')]), Tree('P', [('on', 'IN')]), ('November', 'NNP'), ('23', 'CD'), Tree('NP', [('list', 'NN')]), ('six', 'CD'), Tree('ORGANIZATION', [('Samsung', 'NNP')]), ('products', 'NNS'), Tree('VP', [Tree('V', [('running', 'VBG')]), Tree('NP', [('the', 'DT')])]), ('``', '``'), ('Jelly', 'RB'), Tree('GPE', [('Bean', 'NNP')]), (\"''\", \"''\"), ('and', 'CC'), ('``', '``'), ('Ice', 'NNP'), ('Cream', 'NNP'), ('Sandwich', 'NNP'), (\"''\", \"''\"), Tree('VP', [Tree('V', [('operating', 'VBG')])]), ('systems', 'NNS'), (',', ','), ('which', 'WDT'), Tree('PERSON', [('Apple', 'NNP')]), Tree('VP', [Tree('V', [('claims', 'VBZ')])]), Tree('VP', [Tree('V', [('infringe', 'VB')])]), ('its', 'PRP$'), ('patents', 'NNS'), ('.', '.')]), Tree('S', [Tree('NP', [('The', 'DT')]), ('six', 'CD'), ('phones', 'NNS'), ('and', 'CC'), ('tablets', 'NNS'), Tree('VP', [Tree('V', [('affected', 'VBN')])]), Tree('VP', [Tree('V', [('are', 'VBP')]), Tree('NP', [('the', 'DT')])]), Tree('ORGANIZATION', [('Galaxy', 'NNP')]), ('S', 'NNP'), ('III', 'NNP'), (',', ','), Tree('VP', [Tree('V', [('running', 'VBG')]), Tree('NP', [('the', 'DT'), ('new', 'JJ')])]), Tree('PERSON', [('Jelly', 'NNP'), ('Bean', 'NNP')]), Tree('NP', [('system', 'NN')]), (',', ','), Tree('NP', [('the', 'DT')]), Tree('ORGANIZATION', [('Galaxy', 'NNP')]), ('Tab', 'NNP'), ('8.9', 'CD'), ('Wifi', 'NNP'), Tree('NP', [('tablet', 'NN')]), (',', ','), Tree('NP', [('the', 'DT')]), Tree('ORGANIZATION', [('Galaxy', 'NNP')]), ('Tab', 'NNP'), ('2', 'CD'), ('10.1', 'CD'), (',', ','), Tree('PERSON', [('Galaxy', 'NNP'), ('Rugby', 'NNP'), ('Pro', 'NNP')]), ('and', 'CC'), Tree('PERSON', [('Galaxy', 'NNP'), ('S', 'NNP')]), ('III', 'NNP'), Tree('NP', [('mini', 'NN')]), ('.', '.')]), Tree('S', [Tree('PERSON', [('Apple', 'NNP')]), Tree('VP', [Tree('V', [('stated', 'VBD')])]), ('it', 'PRP'), Tree('VP', [Tree('V', [('had', 'VBD')])]), ('“', 'NNP'), Tree('VP', [Tree('V', [('acted', 'VBD')])]), ('quickly', 'RB'), ('and', 'CC'), ('diligently', 'RB'), (\"''\", \"''\"), Tree('PP', [Tree('P', [('in', 'IN')]), Tree('NP', [('order', 'NN')])]), ('to', 'TO'), ('``', '``'), Tree('VP', [Tree('V', [('determine', 'VB')]), Tree('PP', [Tree('P', [('that', 'IN')]), Tree('NP', [('these', 'DT')])])]), ('newly', 'RB'), Tree('VP', [Tree('V', [('released', 'VBN')])]), ('products', 'NNS'), Tree('VP', [Tree('V', [('do', 'VBP')])]), Tree('VP', [Tree('V', [('infringe', 'VB')]), Tree('NP', [('many', 'JJ')]), Tree('PP', [Tree('P', [('of', 'IN')]), Tree('NP', [('the', 'DT'), ('same', 'JJ')])])]), ('claims', 'NNS'), ('already', 'RB'), Tree('VP', [Tree('V', [('asserted', 'VBN')])]), Tree('P', [('by', 'IN')]), Tree('PERSON', [('Apple', 'NNP')]), ('.', '.'), (\"''\", \"''\")]), Tree('S', [Tree('P', [('In', 'IN')]), Tree('GPE', [('August', 'NNP')]), (',', ','), Tree('PERSON', [('Samsung', 'NNP')]), Tree('VP', [Tree('V', [('lost', 'VBD')]), Tree('NP', [('a', 'DT')])]), Tree('GSP', [('US', 'NNP')]), Tree('NP', [('patent', 'NN'), ('case', 'NN')]), ('to', 'TO'), Tree('GPE', [('Apple', 'NNP')]), ('and', 'CC'), Tree('VP', [Tree('V', [('was', 'VBD')])]), Tree('VP', [Tree('V', [('ordered', 'VBN')])]), ('to', 'TO'), Tree('VP', [Tree('V', [('pay', 'VB')])]), ('its', 'PRP$'), Tree('NP', [('rival', 'JJ')]), ('$', '$'), ('1.05bn', 'CD'), ('(', '('), Tree('NP', [('£0.66bn', 'NN')]), (')', ')'), Tree('P', [('in', 'IN')]), ('damages', 'NNS'), Tree('P', [('for', 'IN')]), Tree('VP', [Tree('V', [('copying', 'VBG')])]), ('features', 'NNS'), Tree('PP', [Tree('P', [('of', 'IN')]), Tree('NP', [('the', 'DT')])]), Tree('ORGANIZATION', [('iPad', 'NN')]), ('and', 'CC'), Tree('ORGANIZATION', [('iPhone', 'NN')]), Tree('P', [('in', 'IN')]), ('its', 'PRP$'), Tree('GPE', [('Galaxy', 'NNP')]), Tree('NP', [('range', 'NN')]), Tree('P', [('of', 'IN')]), ('devices', 'NNS'), ('.', '.')]), Tree('S', [Tree('GPE', [('Samsung', 'NNP')]), (',', ','), ('which', 'WDT'), Tree('VP', [Tree('V', [('is', 'VBZ')]), Tree('NP', [('the', 'DT'), ('world', 'NN')])]), (\"'s\", 'POS'), Tree('NP', [('top', 'JJ'), ('mobile', 'NN'), ('phone', 'NN'), ('maker', 'NN')]), (',', ','), Tree('VP', [Tree('V', [('is', 'VBZ')])]), Tree('VP', [Tree('V', [('appealing', 'VBG')]), Tree('NP', [('the', 'DT'), ('ruling', 'NN')])]), ('.', '.')]), Tree('S', [Tree('NP', [('A', 'DT'), ('similar', 'JJ'), ('case', 'NN')]), Tree('PP', [Tree('P', [('in', 'IN')]), Tree('NP', [('the', 'DT')])]), Tree('ORGANIZATION', [('UK', 'NNP')]), Tree('VP', [Tree('V', [('found', 'VBD')])]), Tree('P', [('in', 'IN')]), Tree('GPE', [('Samsung', 'NNP')]), (\"'s\", 'POS'), Tree('NP', [('favour', 'NN')]), ('and', 'CC'), Tree('VP', [Tree('V', [('ordered', 'VBD')])]), Tree('PERSON', [('Apple', 'NNP')]), ('to', 'TO'), Tree('VP', [Tree('V', [('publish', 'VB')]), Tree('NP', [('an', 'DT'), ('apology', 'NN')])]), Tree('VP', [Tree('V', [('making', 'VBG')]), Tree('NP', [('clear', 'JJ')]), Tree('PP', [Tree('P', [('that', 'IN')]), Tree('NP', [('the', 'DT')])])]), Tree('LOCATION', [('South', 'JJ'), ('Korean', 'JJ')]), Tree('NP', [('firm', 'NN')]), Tree('VP', [Tree('V', [('had', 'VBD')])]), ('not', 'RB'), Tree('VP', [Tree('V', [('copied', 'VBN')])]), ('its', 'PRP$'), Tree('NP', [('iPad', 'NN')]), ('when', 'WRB'), Tree('VP', [Tree('V', [('designing', 'VBG')])]), ('its', 'PRP$'), Tree('NP', [('own', 'JJ')]), ('devices', 'NNS'), ('.', '.')])]\n"
     ]
    }
   ],
   "source": [
    "print(constituency_v2_output_per_sentence)"
   ]
  },
  {
   "cell_type": "markdown",
   "metadata": {},
   "source": [
    "## [total points: 1] Exercise 2: spaCy\n",
    "Use Spacy to process the same text as you analyzed with NLTK."
   ]
  },
  {
   "cell_type": "code",
   "execution_count": 75,
   "metadata": {},
   "outputs": [],
   "source": [
    "# %pip list\n",
    "\n",
    "# %pip install spacy==2.2.4\n",
    "# %pip install https://github.com/explosion/spacy-models/releases/download/en_core_web_sm-3.0.0/en_core_web_sm-3.0.0.tar.gz\n",
    "\n",
    "import spacy\n",
    "nlp = spacy.load('en_core_web_sm')\n",
    "\n",
    "# import en_core_web_sm\n",
    "# nlp = en_core_web_sm.load()"
   ]
  },
  {
   "cell_type": "code",
   "execution_count": 76,
   "metadata": {},
   "outputs": [
    {
     "data": {
      "text/plain": [
       "<benepar.integrations.spacy_plugin.BeneparComponent at 0x11f8efac0>"
      ]
     },
     "execution_count": 76,
     "metadata": {},
     "output_type": "execute_result"
    }
   ],
   "source": [
    "import benepar\n",
    "# benepar.download('benepar_en3')\n",
    "nlp.add_pipe(\"benepar\", config={\"model\": \"benepar_en3\"})"
   ]
  },
  {
   "cell_type": "code",
   "execution_count": 77,
   "metadata": {},
   "outputs": [
    {
     "name": "stderr",
     "output_type": "stream",
     "text": [
      "You're using a T5TokenizerFast tokenizer. Please note that with a fast tokenizer, using the `__call__` method is faster than using a method to encode the text followed by a call to the `pad` method to get a padded encoding.\n"
     ]
    },
    {
     "name": "stdout",
     "output_type": "stream",
     "text": [
      "Tokens: ['Documents', 'filed', 'to', 'the', 'San', 'Jose', 'federal', 'court', 'in', 'California', 'on', 'November', '23', 'list', 'six', 'Samsung', 'products', 'running', 'the', '\"', 'Jelly', 'Bean', '\"', 'and', '\"', 'Ice', 'Cream', 'Sandwich', '\"', 'operating', 'systems', ',', 'which', 'Apple', 'claims', 'infringe', 'its', 'patents', '.']\n",
      "POS: [('Documents', 'NOUN'), ('filed', 'VERB'), ('to', 'ADP'), ('the', 'DET'), ('San', 'PROPN'), ('Jose', 'PROPN'), ('federal', 'ADJ'), ('court', 'NOUN'), ('in', 'ADP'), ('California', 'PROPN'), ('on', 'ADP'), ('November', 'PROPN'), ('23', 'NUM'), ('list', 'NOUN'), ('six', 'NUM'), ('Samsung', 'PROPN'), ('products', 'NOUN'), ('running', 'VERB'), ('the', 'DET'), ('\"', 'PUNCT'), ('Jelly', 'PROPN'), ('Bean', 'PROPN'), ('\"', 'PUNCT'), ('and', 'CCONJ'), ('\"', 'PUNCT'), ('Ice', 'PROPN'), ('Cream', 'PROPN'), ('Sandwich', 'PROPN'), ('\"', 'PUNCT'), ('operating', 'NOUN'), ('systems', 'NOUN'), (',', 'PUNCT'), ('which', 'DET'), ('Apple', 'PROPN'), ('claims', 'VERB'), ('infringe', 'VERB'), ('its', 'PRON'), ('patents', 'NOUN'), ('.', 'PUNCT')]\n",
      "NER: [('San Jose', 'GPE'), ('California', 'GPE'), ('November 23', 'DATE'), ('six', 'CARDINAL'), ('Samsung', 'ORG'), ('Apple', 'ORG')]\n",
      "Constituency: (S (NP (NP (NNS Documents)) (VP (VBN filed) (PP (IN to) (NP (NP (DT the) (NML (NNP San) (NNP Jose)) (JJ federal) (NN court)) (PP (IN in) (NP (NNP California))))) (PP (IN on) (NP (NNP November) (CD 23))))) (VP (VBP list) (NP (NP (CD six) (NNP Samsung) (NNS products)) (VP (VBG running) (NP (NP (DT the) (NML (`` \") (NML (NNP Jelly) (NNP Bean)) ('' \") (CC and) (`` \") (NML (NNP Ice) (NNP Cream) (NNP Sandwich)) ('' \")) (NN operating) (NNS systems)) (, ,) (SBAR (WHNP (WDT which)) (S (NP (NNP Apple)) (VP (VBZ claims) (SBAR (S (VP (VBP infringe) (NP (PRP$ its) (NNS patents)))))))))))) (. .))\n",
      "--------------------------------------------------\n",
      "Tokens: ['The', 'six', 'phones', 'and', 'tablets', 'affected', 'are', 'the', 'Galaxy', 'S', 'III', ',', 'running', 'the', 'new', 'Jelly', 'Bean', 'system', ',', 'the', 'Galaxy', 'Tab', '8.9', 'Wifi', 'tablet', ',', 'the', 'Galaxy', 'Tab', '2', '10.1', ',', 'Galaxy', 'Rugby', 'Pro', 'and', 'Galaxy', 'S', 'III', 'mini', '.']\n",
      "POS: [('The', 'DET'), ('six', 'NUM'), ('phones', 'NOUN'), ('and', 'CCONJ'), ('tablets', 'NOUN'), ('affected', 'VERB'), ('are', 'AUX'), ('the', 'DET'), ('Galaxy', 'PROPN'), ('S', 'PROPN'), ('III', 'PROPN'), (',', 'PUNCT'), ('running', 'VERB'), ('the', 'DET'), ('new', 'ADJ'), ('Jelly', 'PROPN'), ('Bean', 'PROPN'), ('system', 'NOUN'), (',', 'PUNCT'), ('the', 'DET'), ('Galaxy', 'PROPN'), ('Tab', 'PROPN'), ('8.9', 'NUM'), ('Wifi', 'PROPN'), ('tablet', 'NOUN'), (',', 'PUNCT'), ('the', 'DET'), ('Galaxy', 'PROPN'), ('Tab', 'PROPN'), ('2', 'NUM'), ('10.1', 'NUM'), (',', 'PUNCT'), ('Galaxy', 'PROPN'), ('Rugby', 'PROPN'), ('Pro', 'PROPN'), ('and', 'CCONJ'), ('Galaxy', 'PROPN'), ('S', 'PROPN'), ('III', 'PROPN'), ('mini', 'NOUN'), ('.', 'PUNCT')]\n",
      "NER: [('six', 'CARDINAL'), ('the Galaxy S III', 'ORG'), ('Jelly Bean', 'ORG')]\n",
      "Constituency: (S (NP (NP (DT The) (CD six) (NNS phones) (CC and) (NNS tablets)) (VP (VBN affected))) (VP (VBP are) (NP (NP (NP (DT the) (NNP Galaxy) (NNP S) (NNP III)) (, ,) (VP (VBG running) (NP (DT the) (JJ new) (NML (NNP Jelly) (NNP Bean)) (NN system)))) (, ,) (NP (DT the) (NML (NML (NNP Galaxy) (NNP Tab)) (CD 8.9) (NNP Wifi)) (NN tablet)) (, ,) (NP (DT the) (NNP Galaxy) (NNP Tab) (CD 2) (CD 10.1)) (, ,) (NP (NNP Galaxy) (NNP Rugby) (NNP Pro)) (CC and) (NP (NML (NNP Galaxy) (NNP S) (NNP III)) (NN mini)))) (. .))\n",
      "--------------------------------------------------\n",
      "Tokens: ['Apple', 'stated', 'it', 'had', '“', 'acted', 'quickly', 'and', 'diligently', '\"', 'in', 'order', 'to', '\"', 'determine', 'that', 'these', 'newly', 'released', 'products', 'do', 'infringe', 'many', 'of', 'the', 'same', 'claims', 'already', 'asserted', 'by', 'Apple', '.']\n",
      "POS: [('Apple', 'PROPN'), ('stated', 'VERB'), ('it', 'PRON'), ('had', 'AUX'), ('“', 'PUNCT'), ('acted', 'VERB'), ('quickly', 'ADV'), ('and', 'CCONJ'), ('diligently', 'ADV'), ('\"', 'PUNCT'), ('in', 'ADP'), ('order', 'NOUN'), ('to', 'PART'), ('\"', 'PUNCT'), ('determine', 'VERB'), ('that', 'SCONJ'), ('these', 'DET'), ('newly', 'ADV'), ('released', 'VERB'), ('products', 'NOUN'), ('do', 'AUX'), ('infringe', 'VERB'), ('many', 'ADJ'), ('of', 'ADP'), ('the', 'DET'), ('same', 'ADJ'), ('claims', 'NOUN'), ('already', 'ADV'), ('asserted', 'VERB'), ('by', 'ADP'), ('Apple', 'PROPN'), ('.', 'PUNCT')]\n",
      "NER: [('Apple', 'ORG'), ('Apple', 'ORG')]\n",
      "Constituency: (S (NP (NNP Apple)) (VP (VBD stated) (SBAR (S (NP (PRP it)) (VP (VBD had) (`` “) (VP (VBN acted) (ADVP (RB quickly) (CC and) (RB diligently)) ('' \") (SBAR (IN in) (NN order) (S (VP (TO to) (`` \") (VP (VB determine) (SBAR (IN that) (S (NP (DT these) (ADJP (RB newly) (VBN released)) (NNS products)) (VP (VBP do) (VP (VB infringe) (NP (NP (JJ many)) (PP (IN of) (NP (NP (DT the) (JJ same) (NNS claims)) (VP (ADVP (RB already)) (VBN asserted) (PP (IN by) (NP (NNP Apple)))))))))))))))))))) (. .))\n",
      "--------------------------------------------------\n",
      "Tokens: ['\"']\n",
      "POS: [('\"', 'PUNCT')]\n",
      "NER: []\n",
      "Constituency: (X ('' \"))\n",
      "--------------------------------------------------\n",
      "Tokens: ['In', 'August', ',', 'Samsung', 'lost', 'a', 'US', 'patent', 'case', 'to', 'Apple', 'and', 'was', 'ordered', 'to', 'pay', 'its', 'rival', '$', '1.05bn', '(', '£', '0.66bn', ')', 'in', 'damages', 'for', 'copying', 'features', 'of', 'the', 'iPad', 'and', 'iPhone', 'in', 'its', 'Galaxy', 'range', 'of', 'devices', '.']\n",
      "POS: [('In', 'ADP'), ('August', 'PROPN'), (',', 'PUNCT'), ('Samsung', 'PROPN'), ('lost', 'VERB'), ('a', 'DET'), ('US', 'PROPN'), ('patent', 'NOUN'), ('case', 'NOUN'), ('to', 'ADP'), ('Apple', 'PROPN'), ('and', 'CCONJ'), ('was', 'AUX'), ('ordered', 'VERB'), ('to', 'PART'), ('pay', 'VERB'), ('its', 'PRON'), ('rival', 'ADJ'), ('$', 'SYM'), ('1.05bn', 'NUM'), ('(', 'PUNCT'), ('£', 'SYM'), ('0.66bn', 'NOUN'), (')', 'PUNCT'), ('in', 'ADP'), ('damages', 'NOUN'), ('for', 'ADP'), ('copying', 'VERB'), ('features', 'NOUN'), ('of', 'ADP'), ('the', 'DET'), ('iPad', 'PROPN'), ('and', 'CCONJ'), ('iPhone', 'PROPN'), ('in', 'ADP'), ('its', 'PRON'), ('Galaxy', 'PROPN'), ('range', 'NOUN'), ('of', 'ADP'), ('devices', 'NOUN'), ('.', 'PUNCT')]\n",
      "NER: [('August', 'DATE'), ('Samsung', 'ORG'), ('US', 'GPE'), ('Apple', 'ORG'), ('$1.05bn (£0.66bn', 'MONEY'), ('iPad', 'ORG'), ('iPhone', 'ORG')]\n",
      "Constituency: (S (PP (IN In) (NP (NNP August))) (, ,) (NP (NNP Samsung)) (VP (VP (VBD lost) (NP (DT a) (NNP US) (NN patent) (NN case)) (PP (IN to) (NP (NNP Apple)))) (CC and) (VP (VBD was) (VP (VBN ordered) (S (VP (TO to) (VP (VB pay) (NP (PRP$ its) (NN rival)) (NP (NP (NP (NP ($ $) (CD 1.05bn)) (-LRB- -LRB-) (NP ($ £) (CD 0.66bn)) (-RRB- -RRB-)) (PP (IN in) (NP (NNS damages)))) (PP (IN for) (S (VP (VBG copying) (NP (NP (NNS features)) (PP (IN of) (NP (DT the) (NNP iPad) (CC and) (NNP iPhone))) (PP (IN in) (NP (NP (PRP$ its) (NNP Galaxy) (NN range)) (PP (IN of) (NP (NNS devices)))))))))))))))) (. .))\n",
      "--------------------------------------------------\n",
      "Tokens: ['Samsung', ',', 'which', 'is', 'the', 'world', \"'s\", 'top', 'mobile', 'phone', 'maker', ',', 'is', 'appealing', 'the', 'ruling', '.']\n",
      "POS: [('Samsung', 'PROPN'), (',', 'PUNCT'), ('which', 'DET'), ('is', 'VERB'), ('the', 'DET'), ('world', 'NOUN'), (\"'s\", 'PART'), ('top', 'ADJ'), ('mobile', 'ADJ'), ('phone', 'NOUN'), ('maker', 'NOUN'), (',', 'PUNCT'), ('is', 'AUX'), ('appealing', 'VERB'), ('the', 'DET'), ('ruling', 'NOUN'), ('.', 'PUNCT')]\n",
      "NER: [('Samsung', 'ORG')]\n",
      "Constituency: (S (NP (NP (NNP Samsung)) (, ,) (SBAR (WHNP (WDT which)) (S (VP (VBZ is) (NP (NP (DT the) (NN world) (POS 's)) (JJ top) (NML (JJ mobile) (NN phone)) (NN maker))))) (, ,)) (VP (VBZ is) (VP (VBG appealing) (NP (DT the) (NN ruling)))) (. .))\n",
      "--------------------------------------------------\n",
      "Tokens: ['A', 'similar', 'case', 'in', 'the', 'UK', 'found', 'in', 'Samsung', \"'s\", 'favour', 'and', 'ordered', 'Apple', 'to', 'publish', 'an', 'apology', 'making', 'clear', 'that', 'the', 'South', 'Korean', 'firm', 'had', 'not', 'copied', 'its', 'iPad', 'when', 'designing', 'its', 'own', 'devices', '.']\n",
      "POS: [('A', 'DET'), ('similar', 'ADJ'), ('case', 'NOUN'), ('in', 'ADP'), ('the', 'DET'), ('UK', 'PROPN'), ('found', 'VERB'), ('in', 'ADP'), ('Samsung', 'PROPN'), (\"'s\", 'PART'), ('favour', 'NOUN'), ('and', 'CCONJ'), ('ordered', 'VERB'), ('Apple', 'PROPN'), ('to', 'PART'), ('publish', 'VERB'), ('an', 'DET'), ('apology', 'NOUN'), ('making', 'VERB'), ('clear', 'ADJ'), ('that', 'SCONJ'), ('the', 'DET'), ('South', 'ADJ'), ('Korean', 'ADJ'), ('firm', 'NOUN'), ('had', 'AUX'), ('not', 'PART'), ('copied', 'VERB'), ('its', 'PRON'), ('iPad', 'PROPN'), ('when', 'ADV'), ('designing', 'VERB'), ('its', 'PRON'), ('own', 'ADJ'), ('devices', 'NOUN'), ('.', 'PUNCT')]\n",
      "NER: [('UK', 'GPE'), ('Samsung', 'ORG'), ('Apple', 'ORG'), ('South Korean', 'NORP'), ('iPad', 'ORG')]\n",
      "Constituency: (S (NP (NP (DT A) (JJ similar) (NN case)) (PP (IN in) (NP (DT the) (NNP UK)))) (VP (VP (VBD found) (PP (IN in) (NP (NP (NNP Samsung) (POS 's)) (NN favour)))) (CC and) (VP (VBD ordered) (NP (NNP Apple)) (S (VP (TO to) (VP (VB publish) (NP (NP (DT an) (NN apology)) (VP (VBG making) (S (ADJP (JJ clear)) (SBAR (IN that) (S (NP (DT the) (ADJP (JJ South) (JJ Korean)) (NN firm)) (VP (VBD had) (RB not) (VP (VBN copied) (NP (PRP$ its) (NNP iPad)) (SBAR (WHADVP (WRB when)) (S (VP (VBG designing) (NP (PRP$ its) (JJ own) (NNS devices))))))))))))))))) (. .))\n",
      "--------------------------------------------------\n"
     ]
    }
   ],
   "source": [
    "import re\n",
    "\n",
    "text1 = re.sub(r'https?://\\S+|www\\.\\S+', '', text)\n",
    "text1 = re.sub(r'\\s+', ' ', text1).strip()\n",
    "\n",
    "\n",
    "temp_nlp = spacy.load(\"en_core_web_sm\")\n",
    "temp_doc = temp_nlp(text1)\n",
    "sentences = [sent.text for sent in temp_doc.sents]\n",
    "\n",
    "tokens_per_sentence = []\n",
    "pos_tags_per_sentence = []\n",
    "ner_tags_per_sentence = []\n",
    "constituency_output_per_sentence = []\n",
    "\n",
    "for sentence in sentences:\n",
    "    try:\n",
    "        doc = nlp(sentence)\n",
    "        sent = list(doc.sents)[0]\n",
    "\n",
    "        tokens = [token.text for token in sent]\n",
    "        tokens_per_sentence.append(tokens)\n",
    "        print(\"Tokens:\", tokens)\n",
    "\n",
    "        pos_tags = [(token.text, token.pos_) for token in sent]\n",
    "        pos_tags_per_sentence.append(pos_tags)\n",
    "        print(\"POS:\", pos_tags)\n",
    "\n",
    "        ner_tags = [(ent.text, ent.label_) for ent in sent.ents]\n",
    "        ner_tags_per_sentence.append(ner_tags)\n",
    "        print(\"NER:\", ner_tags)\n",
    "\n",
    "        parse = sent._.parse_string\n",
    "        constituency_output_per_sentence.append(parse)\n",
    "        print(\"Constituency:\", parse)\n",
    "\n",
    "        print(\"-\" * 50)\n",
    "\n",
    "    except Exception as e:\n",
    "        print(f\"Sentence:\\n{sentence}\\nError: {e}\")"
   ]
  },
  {
   "cell_type": "markdown",
   "metadata": {},
   "source": [
    "small tip: You can use **sents = list(doc.sents)** to be able to use the index to access a sentence like **sents[2]** for the third sentence.\n"
   ]
  },
  {
   "cell_type": "markdown",
   "metadata": {},
   "source": [
    "## [total points: 7] Exercise 3: Comparison NLTK and spaCy\n",
    "We will now compare the output of NLTK and spaCy, i.e., in what do they differ?"
   ]
  },
  {
   "cell_type": "markdown",
   "metadata": {},
   "source": [
    "### [points: 3] Exercise 3a: Part of speech tagging\n",
    "Compare the output from NLTK and spaCy regarding part of speech tagging.\n",
    "\n",
    "* To compare, you probably would like to compare sentence per sentence. Describe if the sentence splitting is different for NLTK than for spaCy. If not, where do they differ?\n",
    "* After checking the sentence splitting, select a sentence for which you expect interesting results and perhaps differences. Motivate your choice.\n",
    "* Compare the output in `token.tag` from spaCy to the part of speech tagging from NLTK for each token in your selected sentence. Are there any differences? This is not a trick question; it is possible that there are no differences."
   ]
  },
  {
   "cell_type": "markdown",
   "metadata": {},
   "source": [
    "By Timofei Polivanov, Sami Rahali\n",
    "\n",
    "Answer:\n",
    "\n",
    "In part-of-speech tagging, there are notable differences between NLTK and spaCy. Both NLTK and Spacy generally perform sentence tokenization accurately, but Spacy is more consistent in handling punctuation and special characters as separate tokens. For analysis, we chose the second sentence: \"The six phones and tablets affected are the Galaxy S III...\". It was chosen because it includes compound noun phrases, proper nouns, and complex names like 'Galaxy S III', as well as names of other devices and operating systems, so it would be interesting to see how both libraries handle this. For this sentence, Spacy labels 'affected' as a VERB and 'running' also as VERB, which is correct. NLTK, on the other hand, marks 'affected' as VBN and 'running' as VBG, which is way more precise. Overall, the libraries achieved a mostly consistent interpretation of the text. However, NLTK uses a more detailed set of tags, so it is more precise."
   ]
  },
  {
   "cell_type": "markdown",
   "metadata": {},
   "source": [
    "### [points: 2] Exercise 3b: Named Entity Recognition (NER)\n",
    "* Describe differences between the output from NLTK and spaCy for Named Entity Recognition. Which one do you think performs better?"
   ]
  },
  {
   "cell_type": "markdown",
   "metadata": {},
   "source": [
    "Answer:\n",
    "\n",
    "In the named entity recognition part, NLTK and Spacy show differences in both precision and consistency. In the results, it can be seen that NLTK often over-classifies or mislabels entities. For example, it labels 'iPad' as an organization and 'Jelly Bean' as a person. On the other hand, Spacy's results are more accurate in the context of the text. For example, it correctly labels 'San Jose' and 'California' as geopolitical entities (GPE) and identifies things like 'Samsung' and 'Apple' as organizations (ORG). Additionally, Spacy seems to perform better when it comes to classifying data expressions like 'November 23' and '$1.05bn (£0.66bn)', which it correctly labeled as DATE and MONEY, respectively. Overall, Spacy performs way better in NER than NLTK in this case."
   ]
  },
  {
   "cell_type": "markdown",
   "metadata": {},
   "source": [
    "### [points: 2] Exercise 3c: Constituency/dependency parsing\n",
    "Choose one sentence from the text and run constituency parsing using NLTK and dependency parsing using spaCy.\n",
    "* describe briefly the difference between constituency parsing and dependency parsing\n",
    "* describe differences between the output from NLTK and spaCy."
   ]
  },
  {
   "cell_type": "markdown",
   "metadata": {},
   "source": [
    "Answer:\n",
    "\n",
    "The constituency parsing results from NLTK and spaCy show differences in structure and detail. For this analysis, we chose the third sentence: “Apple stated it had ‘acted quickly and diligently’ in order to determine…”. NLTK’s output seems to be more minimal; it shows core phrases but might be shallow sometimes. On the other hand, Spacy's output is more detailed and includes complex nested structures. While both parsers produce tree graphs, Spacy's output is richer and more complex."
   ]
  },
  {
   "cell_type": "markdown",
   "metadata": {},
   "source": [
    "# End of this notebook"
   ]
  }
 ],
 "metadata": {
  "kernelspec": {
   "display_name": ".venv",
   "language": "python",
   "name": "python3"
  },
  "language_info": {
   "codemirror_mode": {
    "name": "ipython",
    "version": 3
   },
   "file_extension": ".py",
   "mimetype": "text/x-python",
   "name": "python",
   "nbconvert_exporter": "python",
   "pygments_lexer": "ipython3",
   "version": "3.9.6"
  }
 },
 "nbformat": 4,
 "nbformat_minor": 4
}
