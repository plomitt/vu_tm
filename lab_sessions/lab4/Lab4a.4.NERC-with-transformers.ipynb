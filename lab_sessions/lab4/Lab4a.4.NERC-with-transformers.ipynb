{
 "cells": [
  {
   "cell_type": "markdown",
   "metadata": {},
   "source": [
    "# Lab4a Named-entity-recognition using fine-tuned transformers"
   ]
  },
  {
   "cell_type": "markdown",
   "metadata": {},
   "source": [
    "Copyright: Vrije Universiteit Amsterdam, Faculty of Humanities, CLTL"
   ]
  },
  {
   "cell_type": "markdown",
   "metadata": {},
   "source": [
    "Before reading this notebook make sure you have consulted **Lab3.4 SentimentClassification using transformer models**, which contains some disclaimers, tips and explains the sentence representations obtained from the transformer models.\n",
    "\n",
    "In this notebook we will use the simpletransformer package that provides a simple API on top of the transformer packge."
   ]
  },
  {
   "cell_type": "code",
   "execution_count": null,
   "metadata": {},
   "outputs": [],
   "source": [
    "#Requires installing transformers, pytorch and simpletransformers\n",
    "#!conda install pytorch cpuonly -c pytorch\n",
    "#!pip install transformers\n",
    "#!pip install simpletransformers"
   ]
  },
  {
   "cell_type": "markdown",
   "metadata": {},
   "source": [
    "We load a transformer model 'bert-base-NER' from the Hugging face repository, which is fine-tuned for Named Entity recognition: \n",
    "\n",
    "https://huggingface.co/models\n",
    "\n",
    "We need to load the model for the sequence classifcation and the tokenizer to convert the sentences into tokens according to the vocabulary of the model.\n",
    "\n",
    "Loading the model takes some time and requires you have sufficient memory to load the model"
   ]
  },
  {
   "cell_type": "code",
   "execution_count": 1,
   "metadata": {},
   "outputs": [
    {
     "name": "stderr",
     "output_type": "stream",
     "text": [
      "/Volumes/Crucial/programming/vu_tm/.venv/lib/python3.9/site-packages/tqdm/auto.py:21: TqdmWarning: IProgress not found. Please update jupyter and ipywidgets. See https://ipywidgets.readthedocs.io/en/stable/user_install.html\n",
      "  from .autonotebook import tqdm as notebook_tqdm\n",
      "/Volumes/Crucial/programming/vu_tm/.venv/lib/python3.9/site-packages/urllib3/__init__.py:35: NotOpenSSLWarning: urllib3 v2 only supports OpenSSL 1.1.1+, currently the 'ssl' module is compiled with 'LibreSSL 2.8.3'. See: https://github.com/urllib3/urllib3/issues/3020\n",
      "  warnings.warn(\n",
      "Some weights of the model checkpoint at dslim/bert-base-NER were not used when initializing BertForTokenClassification: ['bert.pooler.dense.bias', 'bert.pooler.dense.weight']\n",
      "- This IS expected if you are initializing BertForTokenClassification from the checkpoint of a model trained on another task or with another architecture (e.g. initializing a BertForSequenceClassification model from a BertForPreTraining model).\n",
      "- This IS NOT expected if you are initializing BertForTokenClassification from the checkpoint of a model that you expect to be exactly identical (initializing a BertForSequenceClassification model from a BertForSequenceClassification model).\n"
     ]
    }
   ],
   "source": [
    "from simpletransformers.ner import NERModel\n",
    "#sentences = [\"Example sentence 1\", \"Example sentence 2\"]\n",
    "englishmodel = NERModel(\n",
    "        model_type=\"bert\",\n",
    "        model_name=\"dslim/bert-base-NER\",\n",
    "        use_cuda=False\n",
    ")"
   ]
  },
  {
   "cell_type": "markdown",
   "metadata": {},
   "source": [
    "We create an instance of the NERModel that can be used for training, evaluation, and prediction in Named-Entity-Recognition (NER) tasks. The full parameter list for a NERModel object:\n",
    "\n",
    "* model_type: The type of model (bert, roberta)\n",
    "* model_name: Default Transformer model name or path to a directory containing Transformer model file (pytorch_nodel.bin).\n",
    "* labels (optional): A list of all Named Entity labels. If not given, [“O”, “B-MISC”, “I-MISC”, “B-PER”, “I-PER”, “B-ORG”, “I-ORG”, “B-LOC”, “I-LOC”] will be used.\n",
    "* args (optional): Default args will be used if this parameter is not provided. If provided, it should be a dict containing the args that should be changed in the default args.\n",
    "* use_cuda (optional): Use GPU if available. Setting to False will force model to use CPU only."
   ]
  },
  {
   "cell_type": "code",
   "execution_count": 2,
   "metadata": {},
   "outputs": [
    {
     "name": "stderr",
     "output_type": "stream",
     "text": [
      "  0%|          | 0/1 [00:00<?, ?it/s]/Volumes/Crucial/programming/vu_tm/.venv/lib/python3.9/site-packages/urllib3/__init__.py:35: NotOpenSSLWarning: urllib3 v2 only supports OpenSSL 1.1.1+, currently the 'ssl' module is compiled with 'LibreSSL 2.8.3'. See: https://github.com/urllib3/urllib3/issues/3020\n",
      "  warnings.warn(\n",
      "100%|██████████| 1/1 [00:06<00:00,  6.72s/it]\n",
      "Running Prediction: 100%|██████████| 1/1 [00:00<00:00,  1.25it/s]\n"
     ]
    }
   ],
   "source": [
    "predictions, raw_outputs = englishmodel.predict([\"Apple sued Samsung for patents last year.\"])"
   ]
  },
  {
   "cell_type": "code",
   "execution_count": 3,
   "metadata": {},
   "outputs": [
    {
     "data": {
      "text/plain": [
       "[[{'Apple': 'B-ORG'},\n",
       "  {'sued': 'O'},\n",
       "  {'Samsung': 'B-ORG'},\n",
       "  {'for': 'O'},\n",
       "  {'patents': 'O'},\n",
       "  {'last': 'O'},\n",
       "  {'year.': 'O'}]]"
      ]
     },
     "execution_count": 3,
     "metadata": {},
     "output_type": "execute_result"
    }
   ],
   "source": [
    "predictions"
   ]
  },
  {
   "cell_type": "code",
   "execution_count": 4,
   "metadata": {},
   "outputs": [],
   "source": [
    "dutchmodel = NERModel(\n",
    "        model_type=\"bert\",\n",
    "        model_name=\"Matthijsvanhof/bert-base-dutch-cased-finetuned-NER\",\n",
    "        use_cuda=False\n",
    ")"
   ]
  },
  {
   "cell_type": "code",
   "execution_count": 5,
   "metadata": {},
   "outputs": [
    {
     "name": "stderr",
     "output_type": "stream",
     "text": [
      "100%|██████████| 1/1 [00:06<00:00,  6.66s/it]\n",
      "Running Prediction: 100%|██████████| 1/1 [00:00<00:00,  1.42it/s]\n"
     ]
    }
   ],
   "source": [
    "predictions, raw_outputs = dutchmodel.predict([\"Apple sleept Samsung voor de rechter vanwege schending van patenten.\"])"
   ]
  },
  {
   "cell_type": "code",
   "execution_count": 6,
   "metadata": {},
   "outputs": [
    {
     "data": {
      "text/plain": [
       "[[{'Apple': 'O'},\n",
       "  {'sleept': 'O'},\n",
       "  {'Samsung': 'B-MISC'},\n",
       "  {'voor': 'O'},\n",
       "  {'de': 'O'},\n",
       "  {'rechter': 'O'},\n",
       "  {'vanwege': 'O'},\n",
       "  {'schending': 'O'},\n",
       "  {'van': 'O'},\n",
       "  {'patenten.': 'O'}]]"
      ]
     },
     "execution_count": 6,
     "metadata": {},
     "output_type": "execute_result"
    }
   ],
   "source": [
    "predictions"
   ]
  },
  {
   "cell_type": "markdown",
   "metadata": {},
   "source": [
    "Another option for Dutch NER (https://huggingface.co/flair/ner-dutch-large):"
   ]
  },
  {
   "cell_type": "code",
   "execution_count": null,
   "metadata": {},
   "outputs": [],
   "source": [
    "#!pip install flair"
   ]
  },
  {
   "cell_type": "code",
   "execution_count": 7,
   "metadata": {},
   "outputs": [
    {
     "name": "stdout",
     "output_type": "stream",
     "text": [
      "Unexpected exception formatting exception. Falling back to standard exception\n"
     ]
    },
    {
     "name": "stderr",
     "output_type": "stream",
     "text": [
      "Traceback (most recent call last):\n",
      "  File \"/Volumes/Crucial/programming/vu_tm/.venv/lib/python3.9/site-packages/IPython/core/interactiveshell.py\", line 3550, in run_code\n",
      "    exec(code_obj, self.user_global_ns, self.user_ns)\n",
      "  File \"/var/folders/dd/k1v9pfr974ggq61c2rsw7sgr0000gn/T/ipykernel_56386/1886841235.py\", line 5, in <module>\n",
      "    tagger = SequenceTagger.load(\"flair/ner-dutch-large\")\n",
      "  File \"/Volumes/Crucial/programming/vu_tm/.venv/lib/python3.9/site-packages/flair/models/sequence_tagger_model.py\", line 947, in load\n",
      "    return cast(\"SequenceTagger\", super().load(model_path=model_path))\n",
      "  File \"/Volumes/Crucial/programming/vu_tm/.venv/lib/python3.9/site-packages/flair/nn/model.py\", line 583, in load\n",
      "    return cast(\"Classifier\", super().load(model_path=model_path))\n",
      "  File \"/Volumes/Crucial/programming/vu_tm/.venv/lib/python3.9/site-packages/flair/nn/model.py\", line 192, in load\n",
      "    model_file = cls._fetch_model(str(model_path))\n",
      "  File \"/Volumes/Crucial/programming/vu_tm/.venv/lib/python3.9/site-packages/flair/models/sequence_tagger_model.py\", line 789, in _fetch_model\n",
      "    model_path = hf_download(model_name)\n",
      "  File \"/Volumes/Crucial/programming/vu_tm/.venv/lib/python3.9/site-packages/flair/file_utils.py\", line 165, in hf_download\n",
      "    return hf_hub_download(\n",
      "  File \"/Volumes/Crucial/programming/vu_tm/.venv/lib/python3.9/site-packages/huggingface_hub/utils/_validators.py\", line 114, in _inner_fn\n",
      "    return fn(*args, **kwargs)\n",
      "  File \"/Volumes/Crucial/programming/vu_tm/.venv/lib/python3.9/site-packages/huggingface_hub/file_download.py\", line 961, in hf_hub_download\n",
      "    return _hf_hub_download_to_cache_dir(\n",
      "  File \"/Volumes/Crucial/programming/vu_tm/.venv/lib/python3.9/site-packages/huggingface_hub/file_download.py\", line 1112, in _hf_hub_download_to_cache_dir\n",
      "    _download_to_tmp_and_move(\n",
      "  File \"/Volumes/Crucial/programming/vu_tm/.venv/lib/python3.9/site-packages/huggingface_hub/file_download.py\", line 1675, in _download_to_tmp_and_move\n",
      "    http_get(\n",
      "  File \"/Volumes/Crucial/programming/vu_tm/.venv/lib/python3.9/site-packages/huggingface_hub/file_download.py\", line 449, in http_get\n",
      "    for chunk in r.iter_content(chunk_size=constants.DOWNLOAD_CHUNK_SIZE):\n",
      "  File \"/Volumes/Crucial/programming/vu_tm/.venv/lib/python3.9/site-packages/requests/models.py\", line 820, in generate\n",
      "    yield from self.raw.stream(chunk_size, decode_content=True)\n",
      "  File \"/Volumes/Crucial/programming/vu_tm/.venv/lib/python3.9/site-packages/urllib3/response.py\", line 1066, in stream\n",
      "  File \"/Volumes/Crucial/programming/vu_tm/.venv/lib/python3.9/site-packages/urllib3/response.py\", line 955, in read\n",
      "  File \"/Volumes/Crucial/programming/vu_tm/.venv/lib/python3.9/site-packages/urllib3/response.py\", line 879, in _raw_read\n",
      "    buffer = [chunk[-1]]\n",
      "  File \"/Volumes/Crucial/programming/vu_tm/.venv/lib/python3.9/site-packages/urllib3/response.py\", line 862, in _fp_read\n",
      "    If the request that generated this response redirected, this method\n",
      "  File \"/Applications/Xcode.app/Contents/Developer/Library/Frameworks/Python3.framework/Versions/3.9/lib/python3.9/http/client.py\", line 459, in read\n",
      "    n = self.readinto(b)\n",
      "  File \"/Applications/Xcode.app/Contents/Developer/Library/Frameworks/Python3.framework/Versions/3.9/lib/python3.9/http/client.py\", line 503, in readinto\n",
      "    n = self.fp.readinto(b)\n",
      "  File \"/Applications/Xcode.app/Contents/Developer/Library/Frameworks/Python3.framework/Versions/3.9/lib/python3.9/socket.py\", line 704, in readinto\n",
      "    return self._sock.recv_into(b)\n",
      "  File \"/Applications/Xcode.app/Contents/Developer/Library/Frameworks/Python3.framework/Versions/3.9/lib/python3.9/ssl.py\", line 1241, in recv_into\n",
      "    return self.read(nbytes, buffer)\n",
      "  File \"/Applications/Xcode.app/Contents/Developer/Library/Frameworks/Python3.framework/Versions/3.9/lib/python3.9/ssl.py\", line 1099, in read\n",
      "    return self._sslobj.read(len, buffer)\n",
      "KeyboardInterrupt\n",
      "\n",
      "During handling of the above exception, another exception occurred:\n",
      "\n",
      "Traceback (most recent call last):\n",
      "  File \"/Volumes/Crucial/programming/vu_tm/.venv/lib/python3.9/site-packages/IPython/core/interactiveshell.py\", line 2144, in showtraceback\n",
      "    stb = self.InteractiveTB.structured_traceback(\n",
      "  File \"/Volumes/Crucial/programming/vu_tm/.venv/lib/python3.9/site-packages/IPython/core/ultratb.py\", line 1435, in structured_traceback\n",
      "    return FormattedTB.structured_traceback(\n",
      "  File \"/Volumes/Crucial/programming/vu_tm/.venv/lib/python3.9/site-packages/IPython/core/ultratb.py\", line 1326, in structured_traceback\n",
      "    return VerboseTB.structured_traceback(\n",
      "  File \"/Volumes/Crucial/programming/vu_tm/.venv/lib/python3.9/site-packages/IPython/core/ultratb.py\", line 1173, in structured_traceback\n",
      "    formatted_exception = self.format_exception_as_a_whole(etype, evalue, etb, number_of_lines_of_context,\n",
      "  File \"/Volumes/Crucial/programming/vu_tm/.venv/lib/python3.9/site-packages/IPython/core/ultratb.py\", line 1088, in format_exception_as_a_whole\n",
      "    frames.append(self.format_record(record))\n",
      "  File \"/Volumes/Crucial/programming/vu_tm/.venv/lib/python3.9/site-packages/IPython/core/ultratb.py\", line 970, in format_record\n",
      "    frame_info.lines, Colors, self.has_colors, lvals\n",
      "  File \"/Volumes/Crucial/programming/vu_tm/.venv/lib/python3.9/site-packages/IPython/core/ultratb.py\", line 792, in lines\n",
      "    return self._sd.lines\n",
      "  File \"/Volumes/Crucial/programming/vu_tm/.venv/lib/python3.9/site-packages/stack_data/utils.py\", line 145, in cached_property_wrapper\n",
      "    value = obj.__dict__[self.func.__name__] = self.func(obj)\n",
      "  File \"/Volumes/Crucial/programming/vu_tm/.venv/lib/python3.9/site-packages/stack_data/core.py\", line 734, in lines\n",
      "    pieces = self.included_pieces\n",
      "  File \"/Volumes/Crucial/programming/vu_tm/.venv/lib/python3.9/site-packages/stack_data/utils.py\", line 145, in cached_property_wrapper\n",
      "    value = obj.__dict__[self.func.__name__] = self.func(obj)\n",
      "  File \"/Volumes/Crucial/programming/vu_tm/.venv/lib/python3.9/site-packages/stack_data/core.py\", line 681, in included_pieces\n",
      "    pos = scope_pieces.index(self.executing_piece)\n",
      "  File \"/Volumes/Crucial/programming/vu_tm/.venv/lib/python3.9/site-packages/stack_data/utils.py\", line 145, in cached_property_wrapper\n",
      "    value = obj.__dict__[self.func.__name__] = self.func(obj)\n",
      "  File \"/Volumes/Crucial/programming/vu_tm/.venv/lib/python3.9/site-packages/stack_data/core.py\", line 660, in executing_piece\n",
      "    return only(\n",
      "  File \"/Volumes/Crucial/programming/vu_tm/.venv/lib/python3.9/site-packages/executing/executing.py\", line 116, in only\n",
      "    raise NotOneValueFound('Expected one value, found 0')\n",
      "executing.executing.NotOneValueFound: Expected one value, found 0\n"
     ]
    }
   ],
   "source": [
    "from flair.data import Sentence\n",
    "from flair.models import SequenceTagger\n",
    "\n",
    "# load tagger\n",
    "tagger = SequenceTagger.load(\"flair/ner-dutch-large\")"
   ]
  },
  {
   "cell_type": "code",
   "execution_count": null,
   "metadata": {},
   "outputs": [],
   "source": [
    "sentence = Sentence(\"Apple sleept Samsung voor de rechter vanwege schending van patenten.\")\n",
    "\n",
    "# predict NER tags\n",
    "tagger.predict(sentence)\n",
    "\n",
    "# print sentence\n",
    "print(sentence)\n",
    "\n",
    "# print predicted NER spans\n",
    "print('The following NER tags are found:')\n",
    "# iterate over entities and print\n",
    "for entity in sentence.get_spans('ner'):\n",
    "    print(entity)"
   ]
  },
  {
   "cell_type": "markdown",
   "metadata": {},
   "source": [
    "# End of this notebook"
   ]
  }
 ],
 "metadata": {
  "kernelspec": {
   "display_name": ".venv",
   "language": "python",
   "name": "python3"
  },
  "language_info": {
   "codemirror_mode": {
    "name": "ipython",
    "version": 3
   },
   "file_extension": ".py",
   "mimetype": "text/x-python",
   "name": "python",
   "nbconvert_exporter": "python",
   "pygments_lexer": "ipython3",
   "version": "3.9.6"
  }
 },
 "nbformat": 4,
 "nbformat_minor": 4
}
